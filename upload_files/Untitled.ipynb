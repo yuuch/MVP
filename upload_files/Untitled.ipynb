{
 "cells": [
  {
   "cell_type": "code",
   "execution_count": 1,
   "metadata": {},
   "outputs": [],
   "source": [
    "import biom\n",
    "import pandas as pd\n",
    "import numpy as np"
   ]
  },
  {
   "cell_type": "code",
   "execution_count": 4,
   "metadata": {},
   "outputs": [],
   "source": [
    "ft = biom.load_table('feature-table.biom')"
   ]
  },
  {
   "cell_type": "code",
   "execution_count": 5,
   "metadata": {},
   "outputs": [],
   "source": [
    "df = ft.to_dataframe()"
   ]
  },
  {
   "cell_type": "code",
   "execution_count": 7,
   "metadata": {},
   "outputs": [],
   "source": [
    "df = df.transpose()"
   ]
  },
  {
   "cell_type": "code",
   "execution_count": 16,
   "metadata": {},
   "outputs": [
    {
     "data": {
      "text/plain": [
       "['L1S105',\n",
       " 'L1S140',\n",
       " 'L1S208',\n",
       " 'L1S257',\n",
       " 'L1S281',\n",
       " 'L1S57',\n",
       " 'L1S76',\n",
       " 'L1S8',\n",
       " 'L2S155',\n",
       " 'L2S175',\n",
       " 'L2S204',\n",
       " 'L2S222',\n",
       " 'L2S240',\n",
       " 'L2S309',\n",
       " 'L2S357',\n",
       " 'L2S382',\n",
       " 'L3S242',\n",
       " 'L3S294',\n",
       " 'L3S313',\n",
       " 'L3S341',\n",
       " 'L3S360',\n",
       " 'L3S378',\n",
       " 'L4S112',\n",
       " 'L4S137',\n",
       " 'L4S63',\n",
       " 'L5S104',\n",
       " 'L5S155',\n",
       " 'L5S174',\n",
       " 'L5S203',\n",
       " 'L5S222',\n",
       " 'L5S240',\n",
       " 'L6S20',\n",
       " 'L6S68',\n",
       " 'L6S93']"
      ]
     },
     "execution_count": 16,
     "metadata": {},
     "output_type": "execute_result"
    }
   ],
   "source": [
    "list(df.index)"
   ]
  },
  {
   "cell_type": "code",
   "execution_count": 15,
   "metadata": {},
   "outputs": [
    {
     "data": {
      "text/html": [
       "<div>\n",
       "<style scoped>\n",
       "    .dataframe tbody tr th:only-of-type {\n",
       "        vertical-align: middle;\n",
       "    }\n",
       "\n",
       "    .dataframe tbody tr th {\n",
       "        vertical-align: top;\n",
       "    }\n",
       "\n",
       "    .dataframe thead th {\n",
       "        text-align: right;\n",
       "    }\n",
       "</style>\n",
       "<table border=\"1\" class=\"dataframe\">\n",
       "  <thead>\n",
       "    <tr style=\"text-align: right;\">\n",
       "      <th></th>\n",
       "      <th>4b5eeb300368260019c1fbc7a3c718fc</th>\n",
       "      <th>fe30ff0f71a38a39cf1717ec2be3a2fc</th>\n",
       "      <th>d29fe3c70564fc0f69f2c03e0d1e5561</th>\n",
       "      <th>868528ca947bc57b69ffdf83e6b73bae</th>\n",
       "      <th>154709e160e8cada6bfb21115acc80f5</th>\n",
       "      <th>1d2e5f3444ca750c85302ceee2473331</th>\n",
       "      <th>0305a4993ecf2d8ef4149fdfc7592603</th>\n",
       "      <th>cb2fe0146e2fbcb101050edb996a0ee2</th>\n",
       "      <th>997056ba80681bbbdd5d09aa591eadc0</th>\n",
       "      <th>9079bfebcce01d4b5c758067b1208c31</th>\n",
       "      <th>...</th>\n",
       "      <th>ad492bcae03f566b36a19e31f04d659a</th>\n",
       "      <th>eb8ef4756ed538fe480d979e740a04d8</th>\n",
       "      <th>5db2cf37007f874e25eb2c901917e15a</th>\n",
       "      <th>fa3729663b98de0c0af7913e9f30c19e</th>\n",
       "      <th>504572e3afd673db749ee5e8e3e57b97</th>\n",
       "      <th>a6b6f29a1196cacfc392e3d71f55e2a2</th>\n",
       "      <th>0e5df3d01cc073e3c9674c2534169f03</th>\n",
       "      <th>06845c67bc4203081a981200f33e87eb</th>\n",
       "      <th>98d250a339a635f20e26397dafc6ced3</th>\n",
       "      <th>1830c14ead81ad012f1db0e12f8ab6a4</th>\n",
       "    </tr>\n",
       "  </thead>\n",
       "  <tbody>\n",
       "    <tr>\n",
       "      <th>L1S140</th>\n",
       "      <td>0.0</td>\n",
       "      <td>0.0</td>\n",
       "      <td>0.0</td>\n",
       "      <td>2276.0</td>\n",
       "      <td>1176.0</td>\n",
       "      <td>0.0</td>\n",
       "      <td>647.0</td>\n",
       "      <td>0.0</td>\n",
       "      <td>0.0</td>\n",
       "      <td>0.0</td>\n",
       "      <td>...</td>\n",
       "      <td>0.0</td>\n",
       "      <td>0.0</td>\n",
       "      <td>0.0</td>\n",
       "      <td>0.0</td>\n",
       "      <td>0.0</td>\n",
       "      <td>0.0</td>\n",
       "      <td>0.0</td>\n",
       "      <td>0.0</td>\n",
       "      <td>0.0</td>\n",
       "      <td>0.0</td>\n",
       "    </tr>\n",
       "    <tr>\n",
       "      <th>L1S208</th>\n",
       "      <td>0.0</td>\n",
       "      <td>0.0</td>\n",
       "      <td>0.0</td>\n",
       "      <td>2156.0</td>\n",
       "      <td>713.0</td>\n",
       "      <td>5.0</td>\n",
       "      <td>964.0</td>\n",
       "      <td>0.0</td>\n",
       "      <td>0.0</td>\n",
       "      <td>0.0</td>\n",
       "      <td>...</td>\n",
       "      <td>0.0</td>\n",
       "      <td>0.0</td>\n",
       "      <td>0.0</td>\n",
       "      <td>0.0</td>\n",
       "      <td>0.0</td>\n",
       "      <td>0.0</td>\n",
       "      <td>0.0</td>\n",
       "      <td>0.0</td>\n",
       "      <td>0.0</td>\n",
       "      <td>0.0</td>\n",
       "    </tr>\n",
       "  </tbody>\n",
       "</table>\n",
       "<p>2 rows × 759 columns</p>\n",
       "</div>"
      ],
      "text/plain": [
       "        4b5eeb300368260019c1fbc7a3c718fc  fe30ff0f71a38a39cf1717ec2be3a2fc  \\\n",
       "L1S140                               0.0                               0.0   \n",
       "L1S208                               0.0                               0.0   \n",
       "\n",
       "        d29fe3c70564fc0f69f2c03e0d1e5561  868528ca947bc57b69ffdf83e6b73bae  \\\n",
       "L1S140                               0.0                            2276.0   \n",
       "L1S208                               0.0                            2156.0   \n",
       "\n",
       "        154709e160e8cada6bfb21115acc80f5  1d2e5f3444ca750c85302ceee2473331  \\\n",
       "L1S140                            1176.0                               0.0   \n",
       "L1S208                             713.0                               5.0   \n",
       "\n",
       "        0305a4993ecf2d8ef4149fdfc7592603  cb2fe0146e2fbcb101050edb996a0ee2  \\\n",
       "L1S140                             647.0                               0.0   \n",
       "L1S208                             964.0                               0.0   \n",
       "\n",
       "        997056ba80681bbbdd5d09aa591eadc0  9079bfebcce01d4b5c758067b1208c31  \\\n",
       "L1S140                               0.0                               0.0   \n",
       "L1S208                               0.0                               0.0   \n",
       "\n",
       "                      ...                 ad492bcae03f566b36a19e31f04d659a  \\\n",
       "L1S140                ...                                              0.0   \n",
       "L1S208                ...                                              0.0   \n",
       "\n",
       "        eb8ef4756ed538fe480d979e740a04d8  5db2cf37007f874e25eb2c901917e15a  \\\n",
       "L1S140                               0.0                               0.0   \n",
       "L1S208                               0.0                               0.0   \n",
       "\n",
       "        fa3729663b98de0c0af7913e9f30c19e  504572e3afd673db749ee5e8e3e57b97  \\\n",
       "L1S140                               0.0                               0.0   \n",
       "L1S208                               0.0                               0.0   \n",
       "\n",
       "        a6b6f29a1196cacfc392e3d71f55e2a2  0e5df3d01cc073e3c9674c2534169f03  \\\n",
       "L1S140                               0.0                               0.0   \n",
       "L1S208                               0.0                               0.0   \n",
       "\n",
       "        06845c67bc4203081a981200f33e87eb  98d250a339a635f20e26397dafc6ced3  \\\n",
       "L1S140                               0.0                               0.0   \n",
       "L1S208                               0.0                               0.0   \n",
       "\n",
       "        1830c14ead81ad012f1db0e12f8ab6a4  \n",
       "L1S140                               0.0  \n",
       "L1S208                               0.0  \n",
       "\n",
       "[2 rows x 759 columns]"
      ]
     },
     "execution_count": 15,
     "metadata": {},
     "output_type": "execute_result"
    }
   ],
   "source": [
    "df.iloc[[1,2],:]"
   ]
  },
  {
   "cell_type": "code",
   "execution_count": null,
   "metadata": {},
   "outputs": [],
   "source": []
  }
 ],
 "metadata": {
  "kernelspec": {
   "display_name": "Python 3",
   "language": "python",
   "name": "python3"
  },
  "language_info": {
   "codemirror_mode": {
    "name": "ipython",
    "version": 3
   },
   "file_extension": ".py",
   "mimetype": "text/x-python",
   "name": "python",
   "nbconvert_exporter": "python",
   "pygments_lexer": "ipython3",
   "version": "3.6.5"
  }
 },
 "nbformat": 4,
 "nbformat_minor": 2
}
