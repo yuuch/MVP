{
 "cells": [
  {
   "cell_type": "code",
   "execution_count": 1,
   "metadata": {},
   "outputs": [],
   "source": [
    "from Bio import Phylo\n",
    "import numpy as np\n",
    "\n",
    "def get_circular_tree_data(tree, dist=1, start_angle=0, end_angle=360, start_leaf='first'):\n",
    "    \"\"\"Define  data needed to get the Plotly plot of a circular tree\n",
    "    \"\"\"\n",
    "    #tree:  an instance of Bio.Phylo.Newick.Tree or Bio.Phylo.PhyloXML.Phylogeny\n",
    "    #dist:  the vertical distance between two consecutive leafs in the associated rectangular tree layout;\n",
    "    #start_angle:  angle in degrees representing the angle of the first leaf mapped to a circle\n",
    "    #end_angle: angle in degrees representing the angle of the last leaf\n",
    "    #the list of leafs mapped in anticlockwise direction onto circles can be tree.get_terminals() \n",
    "    # or its reversed version tree.get_terminals()[::-1]. \n",
    "    #start leaf: is keyword with two possible values\"\n",
    "    #'first': to map  the leafs in the list tree.get_terminals() onto a circle,\n",
    "    #         in the counter-clockwise direction\n",
    "    #'last': to map  the leafs in the  list, tree.get_terminals()[::-1] \n",
    "    \n",
    "    start_angle *= np.pi/180#conversion to radians\n",
    "    end_angle *= np.pi/180\n",
    "    \n",
    "    def get_radius(tree):\n",
    "        \"\"\"\n",
    "        Associates to  each clade root its radius, equal to the distance from that clade to the tree root\n",
    "        returns dict {clade: node_radius}\n",
    "        \"\"\"\n",
    "        node_radius = tree.depths()\n",
    "        \n",
    "        #  If the tree did not record  the branch lengths  assign  the unit branch length\n",
    "        #  (ex: the case of a newick tree \"(A, (B, C), (D, E))\")\n",
    "        if not np.count_nonzero(node_radius.values()):\n",
    "            node_radius = tree.depths(unit_branch_lengths=True)\n",
    "        return node_radius\n",
    "   \n",
    "    \n",
    "    def get_vertical_position(tree):\n",
    "        \"\"\"\n",
    "        returns a dict {clade: ycoord}, where y-coord is the cartesian y-coordinate \n",
    "        of a  clade root in a rectangular phylogram\n",
    "        \n",
    "        \"\"\"\n",
    "        n_leafs = tree.count_terminals()#Counts the number of tree leafs.\n",
    "        \n",
    "        #Assign y-coordinates to the tree leafs\n",
    "        if start_leaf=='first':\n",
    "            node_ycoord = dict((leaf, k) for k, leaf in enumerate(tree.get_terminals()))\n",
    "        elif start_leaf=='last':\n",
    "            node_ycoord = dict((leaf, k) for k, leaf in enumerate(reversed(tree.get_terminals())))\n",
    "        else:\n",
    "            raise ValueError(\"start leaf can be only 'first' or 'last'\")\n",
    "            \n",
    "        def assign_ycoord(clade):#compute the y-coord for the root of this clade\n",
    "            for subclade in clade:\n",
    "                if subclade not in node_ycoord:# if the subclade root hasn't a y-coord yet\n",
    "                    assign_ycoord(subclade)\n",
    "            node_ycoord[clade] = 0.5 * (node_ycoord[clade.clades[0]] + node_ycoord[clade.clades[-1]])\n",
    "\n",
    "        if tree.root.clades:\n",
    "            assign_ycoord(tree.root)\n",
    "        return node_ycoord\n",
    "\n",
    "    node_radius = get_radius(tree)\n",
    "    node_ycoord = get_vertical_position(tree)\n",
    "    y_vals = node_ycoord.values()\n",
    "    ymin, ymax = min(y_vals), max(y_vals)\n",
    "    ymin -= dist# this dist is necessary when mapping [ymin, ymax] onto [0, 2pi],\n",
    "                #to avoid coincidence of the  first and last leaf angle\n",
    "\n",
    "    def ycoord2theta(y):\n",
    "        # maps an y in the interval [ymin-dist, ymax] to the interval [radian(start_angle), radian(end_angle)]\n",
    "        \n",
    "        return start_angle + (end_angle - start_angle) * (y-ymin) / float(ymax-ymin)\n",
    "\n",
    "    \n",
    "        \n",
    "\n",
    "    def get_points_on_lines(linetype='radial', x_left=0, x_right=0, y_right=0,  y_bot=0, y_top=0):\n",
    "        \"\"\"\n",
    "        - define the points that generate a radial branch and the circular arcs, perpendicular to that branch\n",
    "         \n",
    "        - a circular arc (angular linetype) is defined by 10 points on the segment of ends\n",
    "        (x_bot, y_bot), (x_top, y_top) in the rectangular layout,\n",
    "         mapped by the polar transformation into 10 points that are spline interpolated\n",
    "        - returns for each linetype the lists X, Y, containing the x-coords, resp y-coords of the\n",
    "        lines representative points\n",
    "        \"\"\"\n",
    "       \n",
    "        if linetype == 'radial':\n",
    "            theta = ycoord2theta(y_right) \n",
    "            X = [x_left*np.cos(theta), x_right*np.cos(theta), None]\n",
    "            Y = [x_left*np.sin(theta), x_right*np.sin(theta), None]\n",
    "        \n",
    "        elif linetype == 'angular':\n",
    "            theta_b = ycoord2theta(y_bot)\n",
    "            theta_t = ycoord2theta(y_top)\n",
    "            t = np.linspace(0,1, 10)# 10 points that span the circular arc \n",
    "            theta = (1-t) * theta_b + t * theta_t\n",
    "            X = list(x_right * np.cos(theta)) + [None]\n",
    "            Y = list(x_right * np.sin(theta)) + [None]\n",
    "        \n",
    "        else:\n",
    "            raise ValueError(\"linetype can be only 'radial' or 'angular'\")\n",
    "       \n",
    "        return X,Y   \n",
    "        \n",
    "    \n",
    "\n",
    "    def get_line_lists(clade,  x_left,  xlines, ylines, xarc, yarc):\n",
    "        \"\"\"Recursively compute the lists of points that span the tree branches\"\"\"\n",
    "        \n",
    "        #xlines, ylines  - the lists of x-coords, resp y-coords of radial edge ends\n",
    "        #xarc, yarc - the lists of points generating arc segments for tree branches\n",
    "        \n",
    "        x_right = node_radius[clade]\n",
    "        y_right = node_ycoord[clade]\n",
    "   \n",
    "        X,Y =get_points_on_lines(linetype='radial', x_left=x_left, x_right=x_right, y_right=y_right)\n",
    "   \n",
    "        xlines.extend(X)\n",
    "        ylines.extend(Y)\n",
    "   \n",
    "        if clade.clades:\n",
    "           \n",
    "            y_top = node_ycoord[clade.clades[0]]\n",
    "            y_bot = node_ycoord[clade.clades[-1]]\n",
    "       \n",
    "            X,Y = get_points_on_lines(linetype='angular',  x_right=x_right, y_bot=y_bot, y_top=y_top)\n",
    "            xarc.extend(X)\n",
    "            yarc.extend(Y)\n",
    "       \n",
    "            # get and append the lists of points representing the  branches of the descedants\n",
    "            for child in clade:\n",
    "                get_line_lists(child, x_right, xlines, ylines, xarc, yarc)\n",
    "\n",
    "    xlines=[]\n",
    "    ylines=[]\n",
    "    xarc=[]\n",
    "    yarc=[]\n",
    "    get_line_lists(tree.root,  0, xlines, ylines, xarc, yarc)  \n",
    "    xnodes=[]\n",
    "    ynodes=[]\n",
    "\n",
    "    for clade in tree.find_clades(order='level'):\n",
    "        theta=ycoord2theta(node_ycoord[clade])\n",
    "        xnodes.append(node_radius[clade]*np.cos(theta))\n",
    "        ynodes.append(node_radius[clade]*np.sin(theta))\n",
    "        \n",
    "    return xnodes, ynodes,  xlines, ylines, xarc, yarc    "
   ]
  },
  {
   "cell_type": "code",
   "execution_count": 2,
   "metadata": {},
   "outputs": [],
   "source": [
    "tree = Phylo.read('mapped_tree.xml','phyloxml')"
   ]
  },
  {
   "cell_type": "code",
   "execution_count": 3,
   "metadata": {},
   "outputs": [],
   "source": [
    "xnodes, ynodes,  xlines, ylines, xarc, yarc = get_circular_tree_data(tree,  start_leaf='last')"
   ]
  },
  {
   "cell_type": "code",
   "execution_count": 42,
   "metadata": {},
   "outputs": [],
   "source": [
    "ts = tree.get_terminals()\n",
    "confidence_num = 0 \n",
    "for ele in ts:\n",
    "    if hasattr(ele,'confidence'):\n",
    "        pass\n",
    "    else:\n",
    "        print (ele.confidence.value)\n",
    "        confidence_num +=1\n",
    "    "
   ]
  },
  {
   "cell_type": "code",
   "execution_count": 39,
   "metadata": {},
   "outputs": [
    {
     "ename": "AttributeError",
     "evalue": "'list' object has no attribute 'value'",
     "output_type": "error",
     "traceback": [
      "\u001b[0;31m---------------------------------------------------------------------------\u001b[0m",
      "\u001b[0;31mAttributeError\u001b[0m                            Traceback (most recent call last)",
      "\u001b[0;32m<ipython-input-39-13d3c06fc69c>\u001b[0m in \u001b[0;36m<module>\u001b[0;34m()\u001b[0m\n\u001b[1;32m      2\u001b[0m \u001b[0;32mfor\u001b[0m \u001b[0mclade\u001b[0m \u001b[0;32min\u001b[0m \u001b[0mtree\u001b[0m\u001b[0;34m.\u001b[0m\u001b[0mfind_clades\u001b[0m\u001b[0;34m(\u001b[0m\u001b[0morder\u001b[0m\u001b[0;34m=\u001b[0m\u001b[0;34m'level'\u001b[0m\u001b[0;34m)\u001b[0m\u001b[0;34m:\u001b[0m\u001b[0;34m\u001b[0m\u001b[0m\n\u001b[1;32m      3\u001b[0m     \u001b[0;32mif\u001b[0m \u001b[0mhasattr\u001b[0m\u001b[0;34m(\u001b[0m\u001b[0mclade\u001b[0m\u001b[0;34m,\u001b[0m\u001b[0;34m'confidence'\u001b[0m\u001b[0;34m)\u001b[0m\u001b[0;34m:\u001b[0m\u001b[0;34m\u001b[0m\u001b[0m\n\u001b[0;32m----> 4\u001b[0;31m         \u001b[0mprint\u001b[0m\u001b[0;34m(\u001b[0m\u001b[0mclade\u001b[0m\u001b[0;34m.\u001b[0m\u001b[0mconfidences\u001b[0m\u001b[0;34m.\u001b[0m\u001b[0mvalue\u001b[0m\u001b[0;34m)\u001b[0m\u001b[0;34m\u001b[0m\u001b[0m\n\u001b[0m",
      "\u001b[0;31mAttributeError\u001b[0m: 'list' object has no attribute 'value'"
     ]
    }
   ],
   "source": [
    "for clade in tree.find_clades(order='level'):\n",
    "    if hasattr(clade,'confidence'):\n",
    "        print(clade.confidences.value)"
   ]
  },
  {
   "cell_type": "code",
   "execution_count": 44,
   "metadata": {},
   "outputs": [],
   "source": [
    "text=[]\n",
    "color=[]\n",
    "for clade in tree.find_clades(order='level'):\n",
    "    if hasattr(clade,'confidence'):\n",
    "        text.append(clade.name)\n",
    "        if hasattr(clade.confidence,'value'):\n",
    "            color.append(clade.confidence.value)\n",
    "        else:\n",
    "            color.append(-1)\n",
    "    else:\n",
    "        text.append(clade.name)\n",
    "        color.append(-1)"
   ]
  },
  {
   "cell_type": "code",
   "execution_count": 45,
   "metadata": {},
   "outputs": [],
   "source": [
    "pl_colorscale=[[0.0, 'rgb(10,10,150)'],#color for leafs that haven't associated a confidence\n",
    "               [0.001, 'rgb(10,10,150)'],\n",
    "               [0.001, 'rgb(214, 47, 38)'],   # in fact the colorscale starts here          \n",
    "               [0.1, 'rgb(214, 47, 38)'],\n",
    "               [0.2, 'rgb(244, 109, 67)'],\n",
    "               [0.3, 'rgb(252, 172, 96)'],\n",
    "               [0.4, 'rgb(254, 224, 139)'],\n",
    "               [0.5, 'rgb(254, 254, 189)'],\n",
    "               [0.6, 'rgb(217, 239, 139)'],\n",
    "               [0.7, 'rgb(164, 216, 105)'],\n",
    "               [0.8, 'rgb(102, 189, 99)'],\n",
    "               [0.9, 'rgb(63, 170, 89)'],              \n",
    "               [1.0, 'rgb(25, 151, 79)']]\n",
    "size=[9   for c in color]"
   ]
  },
  {
   "cell_type": "code",
   "execution_count": 46,
   "metadata": {},
   "outputs": [],
   "source": [
    "trace_nodes=dict(type='scatter',\n",
    "           x=xnodes,\n",
    "           y= ynodes, \n",
    "           mode='markers',\n",
    "           marker=dict(color=color,\n",
    "                       size=size, colorscale=pl_colorscale, \n",
    "                       colorbar=dict(thickness=20, dtick=10, ticklen=4, title='confidence')),\n",
    "           text=text, \n",
    "           hoverinfo='text')\n",
    "trace_radial_lines=dict(type='scatter',\n",
    "                       x=xlines,\n",
    "                       y=ylines, \n",
    "                       mode='lines',\n",
    "                       line=dict(color='rgb(20,20,20)', width=1),\n",
    "                       hoverinfo='none')\n",
    "trace_arcs=dict(type='scatter',\n",
    "                       x=xarc,\n",
    "                       y=yarc,\n",
    "                       mode='lines',\n",
    "                       line=dict(color='rgb(20,20,20)', width=1, shape='spline'),\n",
    "                       hoverinfo='none')"
   ]
  },
  {
   "cell_type": "code",
   "execution_count": 47,
   "metadata": {},
   "outputs": [],
   "source": [
    "axis=dict(showline=False,  \n",
    "          zeroline=False,\n",
    "          showgrid=False,\n",
    "          showticklabels=False,\n",
    "          title=''\n",
    "          )"
   ]
  },
  {
   "cell_type": "code",
   "execution_count": 48,
   "metadata": {},
   "outputs": [],
   "source": [
    "layout=dict(title='Bcl-2 gene family tree',\n",
    "            font=dict(family='Balto',size=14),\n",
    "            width=800,\n",
    "            height=850,\n",
    "            autosize=False,\n",
    "            showlegend=False,\n",
    "            xaxis=axis,\n",
    "            yaxis=axis, \n",
    "            hovermode='closest',\n",
    "            plot_bgcolor='rgb(245,245,245)',\n",
    "            margin=dict(t=75)\n",
    "           )"
   ]
  },
  {
   "cell_type": "code",
   "execution_count": 49,
   "metadata": {},
   "outputs": [],
   "source": [
    "fig=dict(data=[trace_radial_lines, trace_arcs, trace_nodes], layout=layout)\n"
   ]
  },
  {
   "cell_type": "code",
   "execution_count": 50,
   "metadata": {},
   "outputs": [],
   "source": [
    "import plotly"
   ]
  },
  {
   "cell_type": "code",
   "execution_count": 51,
   "metadata": {},
   "outputs": [
    {
     "name": "stderr",
     "output_type": "stream",
     "text": [
      "/usr/lib/python3.6/site-packages/plotly/offline/offline.py:451: UserWarning:\n",
      "\n",
      "Your filename `moving_picture.png` didn't end with .html. Adding .html to the end of your file.\n",
      "\n"
     ]
    },
    {
     "data": {
      "text/plain": [
       "'file:///home/ywch/MVP/upload_files/demo/moving_picture.png.html'"
      ]
     },
     "execution_count": 51,
     "metadata": {},
     "output_type": "execute_result"
    }
   ],
   "source": [
    "plotly.offline.plot(fig,filename ='moving_picture.png')"
   ]
  },
  {
   "cell_type": "code",
   "execution_count": null,
   "metadata": {},
   "outputs": [],
   "source": []
  }
 ],
 "metadata": {
  "kernelspec": {
   "display_name": "Python 3",
   "language": "python",
   "name": "python3"
  },
  "language_info": {
   "codemirror_mode": {
    "name": "ipython",
    "version": 3
   },
   "file_extension": ".py",
   "mimetype": "text/x-python",
   "name": "python",
   "nbconvert_exporter": "python",
   "pygments_lexer": "ipython3",
   "version": "3.6.5"
  }
 },
 "nbformat": 4,
 "nbformat_minor": 2
}
