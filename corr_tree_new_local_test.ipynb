{
 "cells": [
  {
   "cell_type": "code",
   "execution_count": 1,
   "metadata": {},
   "outputs": [],
   "source": [
    "import corr_tree_new"
   ]
  },
  {
   "cell_type": "code",
   "execution_count": 2,
   "metadata": {},
   "outputs": [],
   "source": [
    "import os\n",
    "tree_path = os.path.join('','upload_files/demo/tree.nwk')\n",
    "feature_table_path = os.path.join('','upload_files/demo/feature-table.biom')\n",
    "metadata_path = os.path.join('','upload_files/demo/demo_metadata.tsv')\n"
   ]
  },
  {
   "cell_type": "code",
   "execution_count": 3,
   "metadata": {},
   "outputs": [],
   "source": [
    "tree = corr_tree_new.MvpTree(feature_table_path,tree_path,metadata_path,100)"
   ]
  },
  {
   "cell_type": "code",
   "execution_count": null,
   "metadata": {},
   "outputs": [],
   "source": []
  },
  {
   "cell_type": "code",
   "execution_count": null,
   "metadata": {},
   "outputs": [],
   "source": []
  },
  {
   "cell_type": "code",
   "execution_count": null,
   "metadata": {},
   "outputs": [],
   "source": []
  },
  {
   "cell_type": "code",
   "execution_count": 4,
   "metadata": {},
   "outputs": [],
   "source": [
    "#tree.get_featured_tree()"
   ]
  },
  {
   "cell_type": "code",
   "execution_count": 5,
   "metadata": {},
   "outputs": [],
   "source": [
    " #tree.feature_tree.root.sample_series == tree.feature_tree.root.clades[0].sample_series + tree.feature_tree.root.clades[1].sample_series"
   ]
  },
  {
   "cell_type": "code",
   "execution_count": 6,
   "metadata": {},
   "outputs": [],
   "source": [
    "#tree.feature_tree.root.sample_series"
   ]
  },
  {
   "cell_type": "markdown",
   "metadata": {},
   "source": [
    "for ele in tree.feature_table.index:\n",
    "    summ = sum(tree.feature_table.loc[ele])\n",
    "    if summ ==1:\n",
    "        pass\n",
    "    else:\n",
    "        print (ele)\n",
    "        print(summ)"
   ]
  },
  {
   "cell_type": "code",
   "execution_count": 7,
   "metadata": {},
   "outputs": [
    {
     "name": "stderr",
     "output_type": "stream",
     "text": [
      "/usr/lib/python3.6/site-packages/scipy/stats/stats.py:245: RuntimeWarning:\n",
      "\n",
      "The input array could not be properly checked for nan values. nan values will be ignored.\n",
      "\n"
     ]
    }
   ],
   "source": [
    "tree.get_corr_coefficient(tree.metadata['DaysSinceExperimentStart'],method_name='spearman')"
   ]
  },
  {
   "cell_type": "code",
   "execution_count": 8,
   "metadata": {},
   "outputs": [],
   "source": [
    "antibiotic = 'ReportedAntibioticUsage'\n",
    "tree.stats_test(tree.metadata['Subject'],method_name='mannwhitneyu')\n",
    "#tree.get_GI()"
   ]
  },
  {
   "cell_type": "code",
   "execution_count": 9,
   "metadata": {},
   "outputs": [],
   "source": [
    "tree.get_GI()"
   ]
  },
  {
   "cell_type": "code",
   "execution_count": 10,
   "metadata": {},
   "outputs": [
    {
     "data": {
      "text/plain": [
       "2818695"
      ]
     },
     "execution_count": 10,
     "metadata": {},
     "output_type": "execute_result"
    }
   ],
   "source": [
    "tree.get_subtree(100)\n",
    "div = tree.plot_tree()\n",
    "subtreeFile = open('subtreeFile.html','w')\n",
    "subtreeFile.write(div)"
   ]
  },
  {
   "cell_type": "code",
   "execution_count": 11,
   "metadata": {},
   "outputs": [],
   "source": [
    "import numpy as np"
   ]
  },
  {
   "cell_type": "code",
   "execution_count": 12,
   "metadata": {},
   "outputs": [],
   "source": [
    "import plotly \n",
    "from plotly import graph_objs as go"
   ]
  },
  {
   "cell_type": "code",
   "execution_count": 13,
   "metadata": {},
   "outputs": [
    {
     "data": {
      "text/plain": [
       "2815958"
      ]
     },
     "execution_count": 13,
     "metadata": {},
     "output_type": "execute_result"
    }
   ],
   "source": [
    "div = tree.plot_scatter('abundance','GI')\n",
    "f = open('mvptree_abundanceGI.html','w')\n",
    "f.write(div)"
   ]
  },
  {
   "cell_type": "code",
   "execution_count": 14,
   "metadata": {},
   "outputs": [],
   "source": [
    "def search_sub_tree(ID_num,tree):\n",
    "    for clade in tree.find_clades(order='level'):\n",
    "        if clade.ID_num == ID_num:\n",
    "            return clade\n",
    "    "
   ]
  },
  {
   "cell_type": "code",
   "execution_count": null,
   "metadata": {},
   "outputs": [],
   "source": []
  }
 ],
 "metadata": {
  "kernelspec": {
   "display_name": "Python 3",
   "language": "python",
   "name": "python3"
  },
  "language_info": {
   "codemirror_mode": {
    "name": "ipython",
    "version": 3
   },
   "file_extension": ".py",
   "mimetype": "text/x-python",
   "name": "python",
   "nbconvert_exporter": "python",
   "pygments_lexer": "ipython3",
   "version": "3.6.6"
  }
 },
 "nbformat": 4,
 "nbformat_minor": 2
}
