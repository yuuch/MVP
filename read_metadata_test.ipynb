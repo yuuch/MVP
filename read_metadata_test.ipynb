{
 "cells": [
  {
   "cell_type": "code",
   "execution_count": 2,
   "metadata": {},
   "outputs": [],
   "source": [
    "import os"
   ]
  },
  {
   "cell_type": "code",
   "execution_count": 10,
   "metadata": {},
   "outputs": [],
   "source": [
    "cwd = os.getcwd()\n",
    "f = os.path.join('','upload_files/demo/demo_metadata.tsv')\n"
   ]
  },
  {
   "cell_type": "code",
   "execution_count": 11,
   "metadata": {},
   "outputs": [
    {
     "data": {
      "text/plain": [
       "'upload_files/demo/demo_metadata.tsv'"
      ]
     },
     "execution_count": 11,
     "metadata": {},
     "output_type": "execute_result"
    }
   ],
   "source": [
    "f"
   ]
  },
  {
   "cell_type": "code",
   "execution_count": 12,
   "metadata": {},
   "outputs": [],
   "source": [
    "file = open(f)"
   ]
  },
  {
   "cell_type": "code",
   "execution_count": 13,
   "metadata": {},
   "outputs": [
    {
     "name": "stdout",
     "output_type": "stream",
     "text": [
      "#SampleID\tBarcodeSequence\tLinkerPrimerSequence\tBodySite\tYear\tMonth\tDay\tSubject\tReportedAntibioticUsage\tDaysSinceExperimentStart\tDescription\n",
      "\n",
      "#q2:types\tcategorical\tcategorical\tcategorical\tnumeric\tnumeric\tnumeric\tcategorical\tcategorical\tnumeric\tcategorical\n",
      "\n",
      "L1S8\tAGCTGACTAGTC\tGTGCCAGCMGCCGCGGTAA\tgut\t2008\t10\t28\tsubject-1\tYes\t0\tsubject-1.gut.2008-10-28\n",
      "\n",
      "L1S57\tACACACTATGGC\tGTGCCAGCMGCCGCGGTAA\tgut\t2009\t1\t20\tsubject-1\tNo\t84\tsubject-1.gut.2009-1-20\n",
      "\n",
      "L1S76\tACTACGTGTGGT\tGTGCCAGCMGCCGCGGTAA\tgut\t2009\t2\t17\tsubject-1\tNo\t112\tsubject-1.gut.2009-2-17\n",
      "\n",
      "L1S105\tAGTGCGATGCGT\tGTGCCAGCMGCCGCGGTAA\tgut\t2009\t3\t17\tsubject-1\tNo\t140\tsubject-1.gut.2009-3-17\n",
      "\n",
      "L2S155\tACGATGCGACCA\tGTGCCAGCMGCCGCGGTAA\tleft palm\t2009\t1\t20\tsubject-1\tNo\t84\tsubject-1.left-palm.2009-1-20\n",
      "\n",
      "L2S175\tAGCTATCCACGA\tGTGCCAGCMGCCGCGGTAA\tleft palm\t2009\t2\t17\tsubject-1\tNo\t112\tsubject-1.left-palm.2009-2-17\n",
      "\n",
      "L2S204\tATGCAGCTCAGT\tGTGCCAGCMGCCGCGGTAA\tleft palm\t2009\t3\t17\tsubject-1\tNo\t140\tsubject-1.left-palm.2009-3-17\n",
      "\n",
      "L2S222\tCACGTGACATGT\tGTGCCAGCMGCCGCGGTAA\tleft palm\t2009\t4\t14\tsubject-1\tNo\t168\tsubject-1.left-palm.2009-4-14\n",
      "\n",
      "L3S242\tACAGTTGCGCGA\tGTGCCAGCMGCCGCGGTAA\tright palm\t2008\t10\t28\tsubject-1\tYes\t0\tsubject-1.right-palm.2008-10-28\n",
      "\n",
      "L3S294\tCACGACAGGCTA\tGTGCCAGCMGCCGCGGTAA\tright palm\t2009\t1\t20\tsubject-1\tNo\t84\tsubject-1.right-palm.2009-1-20\n",
      "\n",
      "L3S313\tAGTGTCACGGTG\tGTGCCAGCMGCCGCGGTAA\tright palm\t2009\t2\t17\tsubject-1\tNo\t112\tsubject-1.right-palm.2009-2-17\n",
      "\n",
      "L3S341\tCAAGTGAGAGAG\tGTGCCAGCMGCCGCGGTAA\tright palm\t2009\t3\t17\tsubject-1\tNo\t140\tsubject-1.right-palm.2009-3-17\n",
      "\n",
      "L3S360\tCATCGTATCAAC\tGTGCCAGCMGCCGCGGTAA\tright palm\t2009\t4\t14\tsubject-1\tNo\t168\tsubject-1.right-palm.2009-4-14\n",
      "\n",
      "L5S104\tCAGTGTCAGGAC\tGTGCCAGCMGCCGCGGTAA\ttongue\t2008\t10\t28\tsubject-1\tYes\t0\tsubject-1.tongue.2008-10-28\n",
      "\n",
      "L5S155\tATCTTAGACTGC\tGTGCCAGCMGCCGCGGTAA\ttongue\t2009\t1\t20\tsubject-1\tNo\t84\tsubject-1.tongue.2009-1-20\n",
      "\n",
      "L5S174\tCAGACATTGCGT\tGTGCCAGCMGCCGCGGTAA\ttongue\t2009\t2\t17\tsubject-1\tNo\t112\tsubject-1.tongue.2009-2-17\n",
      "\n",
      "L5S203\tCGATGCACCAGA\tGTGCCAGCMGCCGCGGTAA\ttongue\t2009\t3\t17\tsubject-1\tNo\t140\tsubject-1.tongue.2009-3-17\n",
      "\n",
      "L5S222\tCTAGAGACTCTT\tGTGCCAGCMGCCGCGGTAA\ttongue\t2009\t4\t14\tsubject-1\tNo\t168\tsubject-1.tongue.2009-4-14\n",
      "\n",
      "L1S140\tATGGCAGCTCTA\tGTGCCAGCMGCCGCGGTAA\tgut\t2008\t10\t28\tsubject-2\tYes\t0\tsubject-2.gut.2008-10-28\n",
      "\n",
      "L1S208\tCTGAGATACGCG\tGTGCCAGCMGCCGCGGTAA\tgut\t2009\t1\t20\tsubject-2\tNo\t84\tsubject-2.gut.2009-1-20\n",
      "\n",
      "L1S257\tCCGACTGAGATG\tGTGCCAGCMGCCGCGGTAA\tgut\t2009\t3\t17\tsubject-2\tNo\t140\tsubject-2.gut.2009-3-17\n",
      "\n",
      "L1S281\tCCTCTCGTGATC\tGTGCCAGCMGCCGCGGTAA\tgut\t2009\t4\t14\tsubject-2\tNo\t168\tsubject-2.gut.2009-4-14\n",
      "\n",
      "L2S240\tCATATCGCAGTT\tGTGCCAGCMGCCGCGGTAA\tleft palm\t2008\t10\t28\tsubject-2\tYes\t0\tsubject-2.left-palm.2008-10-28\n",
      "\n",
      "L2S309\tCGTGCATTATCA\tGTGCCAGCMGCCGCGGTAA\tleft palm\t2009\t1\t20\tsubject-2\tNo\t84\tsubject-2.left-palm.2009-1-20\n",
      "\n",
      "L2S357\tCTAACGCAGTCA\tGTGCCAGCMGCCGCGGTAA\tleft palm\t2009\t3\t17\tsubject-2\tNo\t140\tsubject-2.left-palm.2009-3-17\n",
      "\n",
      "L2S382\tCTCAATGACTCA\tGTGCCAGCMGCCGCGGTAA\tleft palm\t2009\t4\t14\tsubject-2\tNo\t168\tsubject-2.left-palm.2009-4-14\n",
      "\n",
      "L3S378\tATCGATCTGTGG\tGTGCCAGCMGCCGCGGTAA\tright palm\t2008\t10\t28\tsubject-2\tYes\t0\tsubject-2.right-palm.2008-10-28\n",
      "\n",
      "L4S63\tCTCGTGGAGTAG\tGTGCCAGCMGCCGCGGTAA\tright palm\t2009\t1\t20\tsubject-2\tNo\t84\tsubject-2.right-palm.2009-1-20\n",
      "\n",
      "L4S112\tGCGTTACACACA\tGTGCCAGCMGCCGCGGTAA\tright palm\t2009\t3\t17\tsubject-2\tNo\t140\tsubject-2.right-palm.2009-3-17\n",
      "\n",
      "L4S137\tGAACTGTATCTC\tGTGCCAGCMGCCGCGGTAA\tright palm\t2009\t4\t14\tsubject-2\tNo\t168\tsubject-2.right-palm.2009-4-14\n",
      "\n",
      "L5S240\tCTGGACTCATAG\tGTGCCAGCMGCCGCGGTAA\ttongue\t2008\t10\t28\tsubject-2\tYes\t0\tsubject-2.tongue.2008-10-28\n",
      "\n",
      "L6S20\tGAGGCTCATCAT\tGTGCCAGCMGCCGCGGTAA\ttongue\t2009\t1\t20\tsubject-2\tNo\t84\tsubject-2.tongue.2009-1-20\n",
      "\n",
      "L6S68\tGATACGTCCTGA\tGTGCCAGCMGCCGCGGTAA\ttongue\t2009\t3\t17\tsubject-2\tNo\t140\tsubject-2.tongue.2009-3-17\n",
      "\n",
      "L6S93\tGATTAGCACTCT\tGTGCCAGCMGCCGCGGTAA\ttongue\t2009\t4\t14\tsubject-2\tNo\t168\tsubject-2.tongue.2009-4-14\n"
     ]
    }
   ],
   "source": [
    "lines = file.readlines()\n",
    "for line in lines:\n",
    "    print(line)"
   ]
  },
  {
   "cell_type": "code",
   "execution_count": null,
   "metadata": {},
   "outputs": [],
   "source": []
  }
 ],
 "metadata": {
  "kernelspec": {
   "display_name": "Python 3",
   "language": "python",
   "name": "python3"
  },
  "language_info": {
   "codemirror_mode": {
    "name": "ipython",
    "version": 3
   },
   "file_extension": ".py",
   "mimetype": "text/x-python",
   "name": "python",
   "nbconvert_exporter": "python",
   "pygments_lexer": "ipython3",
   "version": "3.6.5"
  }
 },
 "nbformat": 4,
 "nbformat_minor": 2
}
