{
 "cells": [
  {
   "cell_type": "code",
   "execution_count": 1,
   "metadata": {},
   "outputs": [],
   "source": [
    "import time\n",
    "\n",
    "#import biom\n",
    "import numpy as np\n",
    "\n",
    "import os\n",
    "import OSEA\n",
    "\n",
    "import pandas as pd\n",
    "\n",
    "import biom\n",
    "import heatmap"
   ]
  },
  {
   "cell_type": "code",
   "execution_count": 2,
   "metadata": {},
   "outputs": [],
   "source": [
    "taxonomy_filename = os.path.join('','upload_files/taxonomy.tsv')\n",
    "\n",
    "feature_table = os.path.join('','upload_files/feature-table.biom')\n"
   ]
  },
  {
   "cell_type": "code",
   "execution_count": 3,
   "metadata": {},
   "outputs": [],
   "source": [
    "\n",
    "metadata_filename = os.path.join('', 'upload_files/demo/demo_metadata.tsv')\n",
    "#with open(metadata_filename) as metadata_file:\n",
    "    #metadata = pd.read_csv(metadata_file, sep='\\t') "
   ]
  },
  {
   "cell_type": "code",
   "execution_count": 4,
   "metadata": {},
   "outputs": [
    {
     "name": "stdout",
     "output_type": "stream",
     "text": [
      "Index(['L1S105', 'L1S140', 'L1S208', 'L1S257', 'L1S281', 'L1S57', 'L1S76',\n",
      "       'L1S8', 'L2S155', 'L2S175', 'L2S204', 'L2S222', 'L2S240', 'L2S309',\n",
      "       'L2S357', 'L2S382', 'L3S242', 'L3S294', 'L3S313', 'L3S341', 'L3S360',\n",
      "       'L3S378', 'L4S112', 'L4S137', 'L4S63', 'L5S104', 'L5S155', 'L5S174',\n",
      "       'L5S203', 'L5S222', 'L5S240', 'L6S20', 'L6S68', 'L6S93'],\n",
      "      dtype='object')\n"
     ]
    }
   ],
   "source": [
    "heatmap_instance = heatmap.Heatmap(metadata_filename,feature_table)\n",
    "heatmap_instance.map()"
   ]
  },
  {
   "cell_type": "code",
   "execution_count": 5,
   "metadata": {},
   "outputs": [],
   "source": [
    "import stats_test\n",
    "part1, part2 = stats_test.choose_two_class(heatmap_instance.df,'Subject')\n",
    "part1 = part1[heatmap_instance.df_primary_col]\n",
    "part2 = part2[heatmap_instance.df_primary_col]\n",
    "def obtain_rank_list(df1, df2, test_method_name='t_test'):\n",
    "    methods = {'t_test': stats_test.t_test,\n",
    "               'F_test': stats_test.F_test}\n",
    "    test_method = methods[test_method_name]\n",
    "    rank_list_unsort = {}\n",
    "    for col in part1.columns:\n",
    "        tmp_pvalue = test_method(part1[col],part2[col])\n",
    "        rank_list_unsort[col]=tmp_pvalue\n",
    "    tmp_list = sorted(rank_list_unsort, key=rank_list_unsort.get,reverse=True)\n",
    "    rank_list = {}\n",
    "    for ele in tmp_list:\n",
    "        rank_list[ele]=rank_list_unsort[ele]\n",
    "    return rank_list\n",
    "\n",
    "rank_list = obtain_rank_list(part1,part2)\n",
    "\n",
    "#rank_list\n",
    "\n",
    "osea_real = OSEA.OSEA(rank_list,Taxon_file=taxonomy_filename,set_level='Phylum')"
   ]
  },
  {
   "cell_type": "code",
   "execution_count": null,
   "metadata": {},
   "outputs": [],
   "source": []
  },
  {
   "cell_type": "code",
   "execution_count": null,
   "metadata": {},
   "outputs": [],
   "source": [
    "\n"
   ]
  },
  {
   "cell_type": "code",
   "execution_count": null,
   "metadata": {},
   "outputs": [],
   "source": []
  },
  {
   "cell_type": "code",
   "execution_count": null,
   "metadata": {},
   "outputs": [],
   "source": []
  },
  {
   "cell_type": "code",
   "execution_count": null,
   "metadata": {},
   "outputs": [],
   "source": [
    "\n"
   ]
  },
  {
   "cell_type": "code",
   "execution_count": null,
   "metadata": {},
   "outputs": [],
   "source": []
  },
  {
   "cell_type": "code",
   "execution_count": null,
   "metadata": {},
   "outputs": [],
   "source": []
  },
  {
   "cell_type": "code",
   "execution_count": null,
   "metadata": {},
   "outputs": [],
   "source": []
  },
  {
   "cell_type": "code",
   "execution_count": 6,
   "metadata": {},
   "outputs": [],
   "source": [
    "enrichment_scores = []\n",
    "tic = time.time()\n",
    "first_tic = time.time()\n",
    "tmp_df = heatmap_instance.df[heatmap_instance.df_primary_col]\n",
    "for i in range(1000):\n",
    "    #print('#######____'+str(i)+'___####')\n",
    "    rank_list = OSEA.permutation_to_obtain_ranklist(tmp_df)\n",
    "    es = osea_real.get_ES(rank_list)\n",
    "    enrichment_scores.append(es)\n",
    "    #osea.es\n",
    "    new_tic = time.time()\n",
    "    #print('the %d th permutation used %d seconds'%(i,new_tic-tic))\n",
    "    tic = new_tic\n",
    "new_tic = time.time()\n",
    "#print('the total time used is %.4f'%(new_tic-first_tic))"
   ]
  },
  {
   "cell_type": "code",
   "execution_count": 7,
   "metadata": {},
   "outputs": [
    {
     "data": {
      "text/plain": [
       "1000"
      ]
     },
     "execution_count": 7,
     "metadata": {},
     "output_type": "execute_result"
    }
   ],
   "source": [
    "len(enrichment_scores)"
   ]
  },
  {
   "cell_type": "code",
   "execution_count": 8,
   "metadata": {},
   "outputs": [
    {
     "name": "stdout",
     "output_type": "stream",
     "text": [
      "the time used is 207.41626 seconds\n"
     ]
    }
   ],
   "source": [
    "print('the time used is %.5f seconds'%(new_tic-first_tic))"
   ]
  },
  {
   "cell_type": "code",
   "execution_count": 9,
   "metadata": {},
   "outputs": [],
   "source": [
    "#for i in range(100):\n",
    "set_enrichment_score = {}\n",
    "for key in enrichment_scores[0]:\n",
    "    set_enrichment_score[key] = []\n",
    "    for i in range(1000):\n",
    "        set_enrichment_score[key].append(enrichment_scores[i][key])\n"
   ]
  },
  {
   "cell_type": "markdown",
   "metadata": {},
   "source": [
    "i = 1\n",
    "for ele in set_enrichment_score:\n",
    "    plt.subplot(5,4,i)\n",
    "    plt.hist(set_enrichment_score[ele],bins=25)\n",
    "    i += 1\n",
    "plt.show()"
   ]
  },
  {
   "cell_type": "code",
   "execution_count": 10,
   "metadata": {},
   "outputs": [
    {
     "data": {
      "text/plain": [
       "{' p__Proteobacteria': 0.12181178540017656,\n",
       " ' p__Actinobacteria': 0.03378108259374679,\n",
       " ' p__Firmicutes': 0.04615193269546829,\n",
       " ' p__Bacteroidetes': 0.02885412740294009,\n",
       " ' p__Fusobacteria': 0.11959389698290696,\n",
       " ' p__Tenericutes': 0.5017590149516271,\n",
       " ' p__Spirochaetes': 0.21459982409850475,\n",
       " ' p__Cyanobacteria': 0.25377788438474463,\n",
       " ' p__[Thermi]': 0.06068601583113453,\n",
       " ' p__Planctomycetes': 0.3707124010554089,\n",
       " ' p__SR1': 0.20448548812664913,\n",
       " ' p__Verrucomicrobia': 0.23614775725593662,\n",
       " ' p__Crenarchaeota': 0.4274406332453826,\n",
       " ' p__Synergistetes': 0.10949868073878632,\n",
       " ' p__Chloroflexi': 0.3799472295514512,\n",
       " ' p__GN02': 0.7163588390501319,\n",
       " ' p__TM7': 0.3548812664907651,\n",
       " ' p__Acidobacteria': 0.4696569920844327,\n",
       " ' p__FBP': 0.7255936675461742}"
      ]
     },
     "execution_count": 10,
     "metadata": {},
     "output_type": "execute_result"
    }
   ],
   "source": [
    "osea_real.es"
   ]
  },
  {
   "cell_type": "code",
   "execution_count": 11,
   "metadata": {},
   "outputs": [],
   "source": [
    "final_result = {}\n",
    "for ele in set_enrichment_score:\n",
    "    distribution = OSEA.generate_distribution(set_enrichment_score[ele])\n",
    "    pvalue = OSEA.p_value(osea_real.es[ele],distribution)\n",
    "    final_result[ele]={'ES':osea_real.es[ele],'pvalue':pvalue}"
   ]
  },
  {
   "cell_type": "code",
   "execution_count": 12,
   "metadata": {
    "scrolled": true
   },
   "outputs": [
    {
     "name": "stdout",
     "output_type": "stream",
     "text": [
      " p__Proteobacteria {'ES': 0.12181178540017656, 'pvalue': 0.04900000000000003}\n",
      " p__GN02 {'ES': 0.7163588390501319, 'pvalue': 0.001}\n",
      " p__FBP {'ES': 0.7255936675461742, 'pvalue': 0.008}\n",
      "3\n"
     ]
    }
   ],
   "source": [
    "i = 0\n",
    "for ele in final_result:\n",
    "    if final_result[ele]['pvalue'] < 0.05:\n",
    "        print(ele,final_result[ele])\n",
    "        i+=1\n",
    "print(i)"
   ]
  },
  {
   "cell_type": "code",
   "execution_count": 13,
   "metadata": {},
   "outputs": [
    {
     "name": "stdout",
     "output_type": "stream",
     "text": [
      "19\n"
     ]
    }
   ],
   "source": [
    "print(len(final_result))"
   ]
  },
  {
   "cell_type": "code",
   "execution_count": 14,
   "metadata": {},
   "outputs": [
    {
     "data": {
      "text/plain": [
       "3"
      ]
     },
     "execution_count": 14,
     "metadata": {},
     "output_type": "execute_result"
    }
   ],
   "source": [
    "a=[1,2,3]\n",
    "hist = np.histogram(a,bins=3)\n",
    "len(hist[0])"
   ]
  },
  {
   "cell_type": "code",
   "execution_count": 15,
   "metadata": {},
   "outputs": [
    {
     "data": {
      "text/plain": [
       "4"
      ]
     },
     "execution_count": 15,
     "metadata": {},
     "output_type": "execute_result"
    }
   ],
   "source": [
    "len(hist[1])"
   ]
  },
  {
   "cell_type": "code",
   "execution_count": null,
   "metadata": {},
   "outputs": [],
   "source": []
  },
  {
   "cell_type": "code",
   "execution_count": null,
   "metadata": {},
   "outputs": [],
   "source": []
  },
  {
   "cell_type": "code",
   "execution_count": null,
   "metadata": {},
   "outputs": [],
   "source": []
  },
  {
   "cell_type": "code",
   "execution_count": null,
   "metadata": {},
   "outputs": [],
   "source": []
  },
  {
   "cell_type": "code",
   "execution_count": null,
   "metadata": {},
   "outputs": [],
   "source": []
  },
  {
   "cell_type": "code",
   "execution_count": null,
   "metadata": {},
   "outputs": [],
   "source": [
    "type(enrichment_scores)"
   ]
  },
  {
   "cell_type": "code",
   "execution_count": null,
   "metadata": {},
   "outputs": [],
   "source": [
    "#plt.hist(enrichment_scores, bins=100)\n",
    "#plt.show()"
   ]
  },
  {
   "cell_type": "code",
   "execution_count": null,
   "metadata": {},
   "outputs": [],
   "source": [
    "osea.es_point"
   ]
  },
  {
   "cell_type": "code",
   "execution_count": null,
   "metadata": {},
   "outputs": [],
   "source": [
    "plt.plot(osea.es_point)\n",
    "plt.show()"
   ]
  },
  {
   "cell_type": "code",
   "execution_count": null,
   "metadata": {},
   "outputs": [],
   "source": [
    "values, indexes = np.histogram(enrichment_scores,bins=100)"
   ]
  },
  {
   "cell_type": "code",
   "execution_count": null,
   "metadata": {
    "scrolled": true
   },
   "outputs": [],
   "source": [
    "indexes"
   ]
  },
  {
   "cell_type": "code",
   "execution_count": null,
   "metadata": {},
   "outputs": [],
   "source": [
    "import matplotlib.pyplot as plt\n",
    "plt.hist(enrichment_scores, bins=100)\n",
    "plt.show()"
   ]
  },
  {
   "cell_type": "code",
   "execution_count": null,
   "metadata": {},
   "outputs": [],
   "source": [
    "a= [-2,1,0]\n",
    "\n",
    "m = max(a)\n",
    "\n",
    "absm = max(map(abs,a))\n",
    "\n",
    "if absm>m:\n",
    "    print(-absm)\n",
    "else:\n",
    "    print(m)"
   ]
  },
  {
   "cell_type": "code",
   "execution_count": null,
   "metadata": {},
   "outputs": [],
   "source": []
  },
  {
   "cell_type": "code",
   "execution_count": null,
   "metadata": {
    "scrolled": true
   },
   "outputs": [],
   "source": []
  },
  {
   "cell_type": "code",
   "execution_count": null,
   "metadata": {},
   "outputs": [],
   "source": []
  },
  {
   "cell_type": "code",
   "execution_count": null,
   "metadata": {},
   "outputs": [],
   "source": []
  },
  {
   "cell_type": "code",
   "execution_count": null,
   "metadata": {},
   "outputs": [],
   "source": []
  },
  {
   "cell_type": "code",
   "execution_count": null,
   "metadata": {},
   "outputs": [],
   "source": [
    "\n"
   ]
  },
  {
   "cell_type": "code",
   "execution_count": null,
   "metadata": {},
   "outputs": [],
   "source": []
  },
  {
   "cell_type": "code",
   "execution_count": null,
   "metadata": {
    "scrolled": true
   },
   "outputs": [],
   "source": [
    "import plotly \n",
    "import plotly.graph_objs as go\n",
    "\n",
    "import pandas as pd\n",
    "\n",
    "\n",
    "data = [go.Heatmap( z=trans.values.tolist(), colorscale='Viridis')]\n",
    "\n",
    "plotly.offline.plot(data, filename='pandas-heatmap',format='div')"
   ]
  },
  {
   "cell_type": "code",
   "execution_count": null,
   "metadata": {},
   "outputs": [],
   "source": [
    "print(table.metadata())"
   ]
  },
  {
   "cell_type": "code",
   "execution_count": null,
   "metadata": {},
   "outputs": [],
   "source": [
    "table = biom.load_table('feature-table.biom')"
   ]
  },
  {
   "cell_type": "code",
   "execution_count": null,
   "metadata": {
    "scrolled": false
   },
   "outputs": [],
   "source": [
    "print(table.metadata())"
   ]
  },
  {
   "cell_type": "code",
   "execution_count": null,
   "metadata": {},
   "outputs": [],
   "source": [
    "sns.heatmap(table.to_dataframe())"
   ]
  },
  {
   "cell_type": "code",
   "execution_count": null,
   "metadata": {},
   "outputs": [],
   "source": [
    "def fun(*args):\n",
    "    l = [ele for ele in args]\n",
    "    print(l)\n",
    "fun('a','c','e')"
   ]
  },
  {
   "cell_type": "code",
   "execution_count": null,
   "metadata": {},
   "outputs": [],
   "source": [
    "kwargs = {\"arg1\":'c1'}"
   ]
  },
  {
   "cell_type": "code",
   "execution_count": null,
   "metadata": {},
   "outputs": [],
   "source": [
    "fun(**kwargs)"
   ]
  },
  {
   "cell_type": "code",
   "execution_count": null,
   "metadata": {},
   "outputs": [],
   "source": [
    "list(df.columns)"
   ]
  },
  {
   "cell_type": "code",
   "execution_count": null,
   "metadata": {},
   "outputs": [],
   "source": [
    "a=[1,3,4]\n",
    "b=[1]\n"
   ]
  },
  {
   "cell_type": "code",
   "execution_count": null,
   "metadata": {},
   "outputs": [],
   "source": [
    "a=[]"
   ]
  },
  {
   "cell_type": "code",
   "execution_count": null,
   "metadata": {},
   "outputs": [],
   "source": [
    "a.append((1,2))"
   ]
  },
  {
   "cell_type": "code",
   "execution_count": null,
   "metadata": {},
   "outputs": [],
   "source": [
    "a"
   ]
  },
  {
   "cell_type": "code",
   "execution_count": null,
   "metadata": {},
   "outputs": [],
   "source": [
    "a[0]"
   ]
  },
  {
   "cell_type": "code",
   "execution_count": null,
   "metadata": {},
   "outputs": [],
   "source": [
    "df = pd.DataFrame({\n",
    "...     'col2' : [2, 1, 9, 8, 7, 4],\n",
    "...     'col3': [0, 1, 9, 4, 2, 3],\n",
    "... })"
   ]
  },
  {
   "cell_type": "code",
   "execution_count": null,
   "metadata": {},
   "outputs": [],
   "source": [
    "df"
   ]
  },
  {
   "cell_type": "code",
   "execution_count": null,
   "metadata": {},
   "outputs": [],
   "source": [
    "s=df.iloc[[0,3,2],:]\n",
    "s.index=(range(3))\n",
    "s"
   ]
  },
  {
   "cell_type": "code",
   "execution_count": null,
   "metadata": {},
   "outputs": [],
   "source": [
    "import plotly.graph_objs as go\n",
    "data = [go.Heatmap( z=df.values.tolist(), colorscale='Viridis')]"
   ]
  },
  {
   "cell_type": "code",
   "execution_count": null,
   "metadata": {},
   "outputs": [],
   "source": [
    "s=plotly.offline.plot(data,filename='result.html',output_type='div')"
   ]
  },
  {
   "cell_type": "code",
   "execution_count": null,
   "metadata": {},
   "outputs": [],
   "source": [
    "s\n"
   ]
  },
  {
   "cell_type": "code",
   "execution_count": null,
   "metadata": {},
   "outputs": [],
   "source": [
    "s = plotly.offline.plot(data,output_type='div')"
   ]
  },
  {
   "cell_type": "code",
   "execution_count": null,
   "metadata": {},
   "outputs": [],
   "source": [
    "s='<div>'+s+'<\\/div>'l"
   ]
  },
  {
   "cell_type": "code",
   "execution_count": null,
   "metadata": {},
   "outputs": [],
   "source": [
    "f = open('test.div','w')\n",
    "f.write(s)"
   ]
  },
  {
   "cell_type": "code",
   "execution_count": null,
   "metadata": {},
   "outputs": [],
   "source": [
    "new_df = new_df.reindex()\n",
    "new_df.index =list(range(4))"
   ]
  },
  {
   "cell_type": "code",
   "execution_count": null,
   "metadata": {},
   "outputs": [],
   "source": [
    "df"
   ]
  },
  {
   "cell_type": "code",
   "execution_count": null,
   "metadata": {},
   "outputs": [],
   "source": [
    "cols = df.columns\n",
    "df[cols[1]]"
   ]
  },
  {
   "cell_type": "code",
   "execution_count": null,
   "metadata": {},
   "outputs": [],
   "source": [
    "import copy\n",
    "a = [2,3,1]\n",
    "b = copy.copy(a)\n",
    "b[0]=111\n",
    "print(a)"
   ]
  },
  {
   "cell_type": "code",
   "execution_count": null,
   "metadata": {},
   "outputs": [],
   "source": [
    "b"
   ]
  },
  {
   "cell_type": "code",
   "execution_count": null,
   "metadata": {},
   "outputs": [],
   "source": [
    "len(new_df['col1'])"
   ]
  },
  {
   "cell_type": "code",
   "execution_count": null,
   "metadata": {},
   "outputs": [],
   "source": [
    "b.remove(111)"
   ]
  },
  {
   "cell_type": "code",
   "execution_count": null,
   "metadata": {},
   "outputs": [],
   "source": [
    "b"
   ]
  },
  {
   "cell_type": "code",
   "execution_count": null,
   "metadata": {},
   "outputs": [],
   "source": [
    "np.std(new_df['col2'])"
   ]
  },
  {
   "cell_type": "code",
   "execution_count": null,
   "metadata": {},
   "outputs": [],
   "source": [
    "d= {'c':1,'b':3,'a':2}\n",
    "sorted(d,key =d.get)"
   ]
  },
  {
   "cell_type": "code",
   "execution_count": null,
   "metadata": {},
   "outputs": [],
   "source": []
  },
  {
   "cell_type": "code",
   "execution_count": null,
   "metadata": {},
   "outputs": [],
   "source": [
    "a=1"
   ]
  },
  {
   "cell_type": "code",
   "execution_count": null,
   "metadata": {},
   "outputs": [],
   "source": [
    "test = ['','','None']"
   ]
  },
  {
   "cell_type": "code",
   "execution_count": null,
   "metadata": {},
   "outputs": [],
   "source": [
    "if '' in test:\n",
    "    test.remove('')\n",
    "test"
   ]
  },
  {
   "cell_type": "code",
   "execution_count": null,
   "metadata": {},
   "outputs": [],
   "source": [
    "if 'None' in test:\n",
    "    test.remove('None')"
   ]
  },
  {
   "cell_type": "code",
   "execution_count": null,
   "metadata": {},
   "outputs": [],
   "source": [
    "test"
   ]
  },
  {
   "cell_type": "code",
   "execution_count": null,
   "metadata": {},
   "outputs": [],
   "source": []
  }
 ],
 "metadata": {
  "kernelspec": {
   "display_name": "Python 3",
   "language": "python",
   "name": "python3"
  },
  "language_info": {
   "codemirror_mode": {
    "name": "ipython",
    "version": 3
   },
   "file_extension": ".py",
   "mimetype": "text/x-python",
   "name": "python",
   "nbconvert_exporter": "python",
   "pygments_lexer": "ipython3",
   "version": "3.6.6"
  }
 },
 "nbformat": 4,
 "nbformat_minor": 2
}
