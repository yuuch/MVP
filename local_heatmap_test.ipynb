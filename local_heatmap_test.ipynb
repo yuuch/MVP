{
 "cells": [
  {
   "cell_type": "code",
   "execution_count": 1,
   "metadata": {},
   "outputs": [],
   "source": [
    "import heatmap"
   ]
  },
  {
   "cell_type": "code",
   "execution_count": 2,
   "metadata": {},
   "outputs": [],
   "source": [
    "metadata_path = 'upload_files/demo_metadata.tsv'\n",
    "feature_table_path = 'upload_files/feature-table.biom'"
   ]
  },
  {
   "cell_type": "code",
   "execution_count": 3,
   "metadata": {},
   "outputs": [],
   "source": [
    "hii = heatmap.Heatmap(metadata_path,feature_table_path)"
   ]
  },
  {
   "cell_type": "code",
   "execution_count": 22,
   "metadata": {},
   "outputs": [
    {
     "data": {
      "text/plain": [
       "['categorical',\n",
       " 'gut',\n",
       " 'gut',\n",
       " 'gut',\n",
       " 'gut',\n",
       " 'gut',\n",
       " 'gut',\n",
       " 'gut',\n",
       " 'gut',\n",
       " 'left palm',\n",
       " 'left palm',\n",
       " 'left palm',\n",
       " 'left palm',\n",
       " 'left palm',\n",
       " 'left palm',\n",
       " 'left palm',\n",
       " 'left palm',\n",
       " 'right palm',\n",
       " 'right palm',\n",
       " 'right palm',\n",
       " 'right palm',\n",
       " 'right palm',\n",
       " 'right palm',\n",
       " 'right palm',\n",
       " 'right palm',\n",
       " 'right palm',\n",
       " 'tongue',\n",
       " 'tongue',\n",
       " 'tongue',\n",
       " 'tongue',\n",
       " 'tongue',\n",
       " 'tongue',\n",
       " 'tongue',\n",
       " 'tongue',\n",
       " 'tongue']"
      ]
     },
     "execution_count": 22,
     "metadata": {},
     "output_type": "execute_result"
    }
   ],
   "source": [
    "import pandas as pd\n",
    "sorted(pd.read_csv(metadata_path, sep= '\\t')['BodySite'])"
   ]
  },
  {
   "cell_type": "code",
   "execution_count": 5,
   "metadata": {},
   "outputs": [
    {
     "data": {
      "text/plain": [
       "<heatmap.Heatmap at 0x7f3f5ba512e8>"
      ]
     },
     "execution_count": 5,
     "metadata": {},
     "output_type": "execute_result"
    }
   ],
   "source": [
    "hii"
   ]
  },
  {
   "cell_type": "code",
   "execution_count": 6,
   "metadata": {},
   "outputs": [],
   "source": [
    "#hii.df.sum(axis=1)"
   ]
  },
  {
   "cell_type": "code",
   "execution_count": 7,
   "metadata": {},
   "outputs": [],
   "source": [
    "hii.map()"
   ]
  },
  {
   "cell_type": "code",
   "execution_count": 8,
   "metadata": {},
   "outputs": [
    {
     "data": {
      "text/plain": [
       "Index(['BarcodeSequence', 'LinkerPrimerSequence', 'BodySite', 'Year', 'Month',\n",
       "       'Day', 'Subject', 'ReportedAntibioticUsage', 'DaysSinceExperimentStart',\n",
       "       'Description'],\n",
       "      dtype='object')"
      ]
     },
     "execution_count": 8,
     "metadata": {},
     "output_type": "execute_result"
    }
   ],
   "source": [
    "hii.meta.columns"
   ]
  },
  {
   "cell_type": "code",
   "execution_count": 18,
   "metadata": {},
   "outputs": [
    {
     "name": "stdout",
     "output_type": "stream",
     "text": [
      "['BodySite']\n",
      "cols num:  759\n"
     ]
    }
   ],
   "source": [
    "hii.sort_by_features('BodySite')\n",
    "hii.obtain_numerical_matrix()"
   ]
  },
  {
   "cell_type": "code",
   "execution_count": 10,
   "metadata": {},
   "outputs": [],
   "source": [
    "#hii.df.sum(axis=1)"
   ]
  },
  {
   "cell_type": "code",
   "execution_count": 19,
   "metadata": {},
   "outputs": [],
   "source": [
    "div = hii.plotly_div()\n",
    "with open('heatmap_Apr.html','w') as f:\n",
    "    f.write(div)"
   ]
  },
  {
   "cell_type": "code",
   "execution_count": 12,
   "metadata": {},
   "outputs": [],
   "source": [
    "from plotly import graph_objs as go"
   ]
  },
  {
   "cell_type": "code",
   "execution_count": 13,
   "metadata": {},
   "outputs": [],
   "source": [
    "trace = go.Heatmap(z=hii.numeric_df.values.tolist())"
   ]
  },
  {
   "cell_type": "code",
   "execution_count": 14,
   "metadata": {},
   "outputs": [],
   "source": [
    "import plotly\n",
    "#plotly.offline.plot([trace])"
   ]
  },
  {
   "cell_type": "code",
   "execution_count": 16,
   "metadata": {},
   "outputs": [
    {
     "data": {
      "text/plain": [
       "True"
      ]
     },
     "execution_count": 16,
     "metadata": {},
     "output_type": "execute_result"
    }
   ],
   "source": [
    "bool('True')"
   ]
  },
  {
   "cell_type": "code",
   "execution_count": 17,
   "metadata": {},
   "outputs": [
    {
     "data": {
      "text/plain": [
       "True"
      ]
     },
     "execution_count": 17,
     "metadata": {},
     "output_type": "execute_result"
    }
   ],
   "source": []
  },
  {
   "cell_type": "code",
   "execution_count": null,
   "metadata": {},
   "outputs": [],
   "source": []
  }
 ],
 "metadata": {
  "kernelspec": {
   "display_name": "Python 3",
   "language": "python",
   "name": "python3"
  },
  "language_info": {
   "codemirror_mode": {
    "name": "ipython",
    "version": 3
   },
   "file_extension": ".py",
   "mimetype": "text/x-python",
   "name": "python",
   "nbconvert_exporter": "python",
   "pygments_lexer": "ipython3",
   "version": "3.6.6"
  }
 },
 "nbformat": 4,
 "nbformat_minor": 2
}
