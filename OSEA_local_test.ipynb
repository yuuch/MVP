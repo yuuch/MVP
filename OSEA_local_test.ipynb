{
 "cells": [
  {
   "cell_type": "code",
   "execution_count": 1,
   "metadata": {},
   "outputs": [],
   "source": [
    "import time\n",
    "import numpy as np\n",
    "import os\n",
    "import OSEA\n",
    "import pandas as pd\n",
    "import biom\n",
    "import heatmap"
   ]
  },
  {
   "cell_type": "code",
   "execution_count": 2,
   "metadata": {},
   "outputs": [],
   "source": [
    "taxonomy_filename = os.path.join('','upload_files/taxonomy.tsv')\n",
    "\n",
    "feature_table = os.path.join('','upload_files/feature-table.biom')\n"
   ]
  },
  {
   "cell_type": "code",
   "execution_count": 3,
   "metadata": {},
   "outputs": [],
   "source": [
    "\n",
    "metadata_filename = os.path.join('', 'upload_files/demo/demo_metadata.tsv')\n",
    "#with open(metadata_filename) as metadata_file:\n",
    "    #metadata = pd.read_csv(metadata_file, sep='\\t') "
   ]
  },
  {
   "cell_type": "code",
   "execution_count": 4,
   "metadata": {},
   "outputs": [],
   "source": [
    "heatmap_instance = heatmap.Heatmap(metadata_filename,feature_table)\n",
    "heatmap_instance.map()"
   ]
  },
  {
   "cell_type": "code",
   "execution_count": 5,
   "metadata": {},
   "outputs": [],
   "source": [
    "import stats_test\n",
    "part1, part2 = stats_test.choose_two_class(heatmap_instance.df,'Subject')\n",
    "part1 = part1[heatmap_instance.df_primary_col]\n",
    "part2 = part2[heatmap_instance.df_primary_col]\n",
    "def obtain_rank_list(df1, df2, test_method_name='t_test'):\n",
    "    methods = {'t_test': stats_test.t_test,\n",
    "               'F_test': stats_test.F_test}\n",
    "    test_method = methods[test_method_name]\n",
    "    rank_list_unsort = {}\n",
    "    for col in part1.columns:\n",
    "        tmp_pvalue = test_method(part1[col],part2[col])\n",
    "        rank_list_unsort[col]=tmp_pvalue\n",
    "    tmp_list = sorted(rank_list_unsort, key=rank_list_unsort.get,reverse=True)\n",
    "    rank_list = {}\n",
    "    for ele in tmp_list:\n",
    "        rank_list[ele]=rank_list_unsort[ele]\n",
    "    return rank_list\n",
    "\n",
    "rank_list = obtain_rank_list(part1,part2)\n",
    "\n",
    "#rank_list\n",
    "\n",
    "osea_real = OSEA.OSEA(rank_list,Taxon_file=taxonomy_filename,set_level='Genus')"
   ]
  },
  {
   "cell_type": "code",
   "execution_count": null,
   "metadata": {},
   "outputs": [],
   "source": []
  },
  {
   "cell_type": "code",
   "execution_count": null,
   "metadata": {},
   "outputs": [],
   "source": [
    "\n"
   ]
  },
  {
   "cell_type": "code",
   "execution_count": null,
   "metadata": {},
   "outputs": [],
   "source": []
  },
  {
   "cell_type": "code",
   "execution_count": null,
   "metadata": {},
   "outputs": [],
   "source": []
  },
  {
   "cell_type": "code",
   "execution_count": null,
   "metadata": {},
   "outputs": [],
   "source": [
    "\n"
   ]
  },
  {
   "cell_type": "code",
   "execution_count": null,
   "metadata": {},
   "outputs": [],
   "source": []
  },
  {
   "cell_type": "code",
   "execution_count": null,
   "metadata": {},
   "outputs": [],
   "source": []
  },
  {
   "cell_type": "code",
   "execution_count": null,
   "metadata": {},
   "outputs": [],
   "source": []
  },
  {
   "cell_type": "code",
   "execution_count": 6,
   "metadata": {},
   "outputs": [],
   "source": [
    "enrichment_scores = []\n",
    "tic = time.time()\n",
    "first_tic = time.time()\n",
    "tmp_df = heatmap_instance.df[heatmap_instance.df_primary_col]\n",
    "for i in range(1000):\n",
    "    #print('#######____'+str(i)+'___####')\n",
    "    rank_list = OSEA.permutation_to_obtain_ranklist(tmp_df)\n",
    "    es = osea_real.get_ES(rank_list)\n",
    "    enrichment_scores.append(es)\n",
    "    #osea.es\n",
    "    new_tic = time.time()\n",
    "    #print('the %d th permutation used %d seconds'%(i,new_tic-tic))\n",
    "    tic = new_tic\n",
    "new_tic = time.time()\n",
    "#print('the total time used is %.4f'%(new_tic-first_tic))"
   ]
  },
  {
   "cell_type": "code",
   "execution_count": 7,
   "metadata": {},
   "outputs": [
    {
     "data": {
      "text/plain": [
       "1000"
      ]
     },
     "execution_count": 7,
     "metadata": {},
     "output_type": "execute_result"
    }
   ],
   "source": [
    "len(enrichment_scores)"
   ]
  },
  {
   "cell_type": "code",
   "execution_count": 8,
   "metadata": {},
   "outputs": [
    {
     "name": "stdout",
     "output_type": "stream",
     "text": [
      "the time used is 340.75284 seconds\n"
     ]
    }
   ],
   "source": [
    "print('the time used is %.5f seconds'%(new_tic-first_tic))"
   ]
  },
  {
   "cell_type": "code",
   "execution_count": 9,
   "metadata": {},
   "outputs": [],
   "source": [
    "#for i in range(100):\n",
    "set_enrichment_score = {}\n",
    "for key in enrichment_scores[0]:\n",
    "    set_enrichment_score[key] = []\n",
    "    for i in range(1000):\n",
    "        set_enrichment_score[key].append(enrichment_scores[i][key])\n"
   ]
  },
  {
   "cell_type": "markdown",
   "metadata": {},
   "source": [
    "i = 1\n",
    "for ele in set_enrichment_score:\n",
    "    plt.subplot(5,4,i)\n",
    "    plt.hist(set_enrichment_score[ele],bins=25)\n",
    "    i += 1\n",
    "plt.show()"
   ]
  },
  {
   "cell_type": "code",
   "execution_count": 10,
   "metadata": {},
   "outputs": [
    {
     "data": {
      "text/plain": [
       "{' g__Actinomyces': 0.3161829375549692,\n",
       " ' g__': 0.11218431963814512,\n",
       " ' g__Prevotella': 0.10026385224274426,\n",
       " ' g__Neisseria': 0.30606860158311344,\n",
       " ' g__Acinetobacter': 0.40953637391632103,\n",
       " ' g__Veillonella': 0.148636763412489,\n",
       " ' g__Subdoligranulum': 0.6490765171503958,\n",
       " ' g__Porphyromonas': 0.21487467018469658,\n",
       " ' g__Oligella': 0.07783641160949872,\n",
       " ' g__Pseudomonas': 0.29683377308707126,\n",
       " ' g__Cloacibacterium': 0.9538258575197889,\n",
       " ' g__Fusobacterium': 0.10861917326297273,\n",
       " ' g__Lactobacillus': 0.16754617414248008,\n",
       " ' g__Mycoplasma': 0.5017590149516271,\n",
       " ' g__Shuttleworthia': 0.3720316622691293,\n",
       " ' g__Oribacterium': 0.01846965699208447,\n",
       " ' g__Paracoccus': 0.5461741424802111,\n",
       " ' g__Flavobacterium': 0.21108179419525053,\n",
       " ' g__Acanthamoeba': 0.4036939313984169,\n",
       " ' g__Oxalobacter': 0.4617414248021108,\n",
       " ' g__Coprococcus': 0.1299472295514512,\n",
       " ' g__Treponema': 0.21459982409850475,\n",
       " ' g__Lachnospira': 0.11948737278552579,\n",
       " ' g__Faecalibacterium': 0.13324538258575197,\n",
       " ' g__Bacteroides': 0.2092828016310866,\n",
       " ' g__Rubricoccus': 0.39182058047493407,\n",
       " ' g__Clostridium': 0.47950071037142283,\n",
       " ' g__Ruminococcus': 0.18660216945177366,\n",
       " ' g__Hydrogenophaga': 0.5303430079155673,\n",
       " ' g__[Prevotella]': 0.09117560832600413,\n",
       " ' g__Rothia': 0.03562005277044855,\n",
       " ' g__Anaerococcus': 0.2540520165849979,\n",
       " ' g__Helcococcus': 0.7427440633245382,\n",
       " ' g__Alloiococcus': 0.06860158311345643,\n",
       " ' g__Finegoldia': 0.10422163588390498,\n",
       " ' g__Streptococcus': 0.20544495082753655,\n",
       " ' g__Oscillospira': 0.16325857519788917,\n",
       " ' g__Peptococcus': 0.18601583113456466,\n",
       " ' g__Corynebacterium': 0.11134564643799472,\n",
       " ' g__Hymenobacter': 0.5211081794195251,\n",
       " ' g__Blautia': 0.23790677220756373,\n",
       " ' g__Lachnoanaerobaculum': 0.8245382585751979,\n",
       " ' g__Chryseobacterium': 0.3054089709762533,\n",
       " ' g__Vogesella': 0.5184696569920844,\n",
       " ' g__Peptoniphilus': 0.17093856012061814,\n",
       " ' g__Proteocatella': 0.445910290237467,\n",
       " ' g__Anaerobiospirillum': 0.4934036939313984,\n",
       " ' g__Alistipes': 0.0158311345646438,\n",
       " ' g__Mogibacterium': 0.2594547053649956,\n",
       " ' g__Pedobacter': 0.2532981530343007,\n",
       " ' g__Gemmiger': 0.0633245382585752,\n",
       " ' g__Butyrivibrio': 0.3232189973614775,\n",
       " ' g__Lactococcus': 0.6569920844327177,\n",
       " ' g__Flavisolibacter': 0.33641160949868076,\n",
       " ' g__Truepera': 0.4142480211081794,\n",
       " ' g__Planctomyces': 0.3707124010554089,\n",
       " ' g__1-68': 0.25065963060686014,\n",
       " ' g__Phascolarctobacterium': 0.46569920844327173,\n",
       " ' g__Epulopiscium': 0.3984168865435356,\n",
       " ' g__Scardovia': 0.1992084432717678,\n",
       " ' g__Sphingobacterium': 0.7071240105540897,\n",
       " ' g__Bilophila': 0.03298153034300788,\n",
       " ' g__Varibaculum': 0.5448548812664908,\n",
       " ' g__Parvimonas': 0.49912049252418644,\n",
       " ' g__Brevundimonas': 0.03034300791556732,\n",
       " ' g__Leptotrichia': 0.055408970976253524,\n",
       " ' g__Selenomonas': 0.16490765171503963,\n",
       " ' g__[Ruminococcus]': 0.24274406332453824,\n",
       " ' g__Parabacteroides': 0.02242744063324542,\n",
       " ' g__Dialister': 0.11609498680738783,\n",
       " ' g__Wautersiella': 0.48812664907651715,\n",
       " ' g__Skermanella': 0.8364116094986808,\n",
       " ' g__Candidatus Nitrososphaera': 0.4274406332453826,\n",
       " ' g__Anaerostipes': 0.662269129287599,\n",
       " ' g__Adhaeribacter': 0.22031662269129293,\n",
       " ' g__Kaistobacter': 0.47229551451187335,\n",
       " ' g__TG5': 0.10949868073878632,\n",
       " ' g__Tepidimonas': 0.33773087071240104,\n",
       " ' g__Bulleidia': 0.02902374670184693,\n",
       " ' g__Campylobacter': 0.05013192612137207,\n",
       " ' g__Desulfovibrio': 0.837730870712401,\n",
       " ' g__Sphingomonas': 0.5725593667546174,\n",
       " ' g__Balneimonas': 0.5567282321899736,\n",
       " ' g__Lysobacter': 0.7018469656992085,\n",
       " ' g__ph2': 0.13324538258575203,\n",
       " ' g__Actinomycetospora': 0.15303430079155678,\n",
       " ' g__Capnocytophaga': 0.05606860158311344,\n",
       " ' g__Frigoribacterium': 0.3258575197889182,\n",
       " ' g__Holdemania': 0.9775725593667546,\n",
       " ' g__Sphingopyxis': 0.45646437994722955,\n",
       " ' g__Dorea': 0.24846086191732625,\n",
       " ' g__Moryella': 0.4841688654353562,\n",
       " ' g__Facklamia': 0.5224274406332454,\n",
       " ' g__Akkermansia': 0.23614775725593673,\n",
       " ' g__Methylobacterium': 0.7704485488126649,\n",
       " ' g__Catonella': 0.4366754617414248,\n",
       " ' g__Rhodococcus': 0.9934036939313984,\n",
       " ' g__Bergeyella': 0.7994722955145119,\n",
       " ' g__Allobaculum': 0.9617414248021108,\n",
       " ' g__Moraxella': 0.6424802110817942,\n",
       " ' g__Abiotrophia': 0.13720316622691298,\n",
       " ' g__Aggregatibacter': 0.05277044854881263,\n",
       " ' g__Methylibium': 0.8390501319261214,\n",
       " ' g__Paludibacter': 0.31398416886543534,\n",
       " ' g__Novosphingobium': 0.5672823218997362,\n",
       " ' g__Caulobacter': 0.9274406332453826,\n",
       " ' g__Enhydrobacter': 0.2915567282321899,\n",
       " ' g__Tannerella': 0.11213720316622688,\n",
       " ' g__Peptostreptococcus': 0.14907651715039583,\n",
       " ' g__Haemophilus': 0.02638522427440637,\n",
       " ' g__Caldilinea': 0.4129287598944591,\n",
       " ' g__Blastomonas': 0.6094986807387863,\n",
       " ' g__Rubellimicrobium': 0.2757255936675461,\n",
       " ' g__Janthinobacterium': 0.7902374670184696,\n",
       " ' g__Dermabacter': 0.17282321899736153,\n",
       " ' g__Atopobium': 0.15171503957783639,\n",
       " ' g__Kingella': 0.41556728232189977,\n",
       " ' g__Raphanus': 0.616094986807388,\n",
       " ' g__Blastococcus': 0.9947229551451188,\n",
       " ' g__Arcobacter': 0.7532981530343008,\n",
       " ' g__Leadbetterella': 0.4591029023746702,\n",
       " ' g__Alicyclobacillus': 0.996042216358839,\n",
       " ' g__Odoribacter': 0.05145118733509235,\n",
       " ' g__Paraprevotella': 0.07255936675461738,\n",
       " ' g__Peredibacter': 0.36015831134564646,\n",
       " ' g__Devosia': 0.6781002638522428,\n",
       " ' g__Petrobacter': 0.45514511873350927,\n",
       " ' g__[Eubacterium]': 0.6306068601583114,\n",
       " ' g__Aeromicrobium': 0.2691292875989446,\n",
       " ' g__Catenibacterium': 0.8878627968337731,\n",
       " ' g__Roseburia': 0.43007915567282323,\n",
       " ' g__Lutibacterium': 0.4116094986807388,\n",
       " ' g__Butyricimonas': 0.04353562005277045,\n",
       " ' g__Filifactor': 0.7572559366754618,\n",
       " ' g__Methylotenera': 0.8562005277044855,\n",
       " ' g__WAL_1855D': 0.920844327176781,\n",
       " ' g__Fusibacter': 0.3588390501319261,\n",
       " ' g__Polaromonas': 0.3496042216358839,\n",
       " ' g__Desulfomicrobium': 0.7361477572559367,\n",
       " ' g__Deinococcus': 0.06068601583113453,\n",
       " ' g__Luteolibacter': 0.7440633245382586,\n",
       " ' g__Dyadobacter': 0.47889182058047497,\n",
       " ' g__Cellvibrio': 0.7519788918205805,\n",
       " ' g__Tatlockia': 0.7216358839050132,\n",
       " ' g__DA101': 0.40105540897097625,\n",
       " ' g__Ochrobactrum': 0.5989445910290238,\n",
       " ' g__Helicobacter': 0.39973614775725597,\n",
       " ' g__Chloroidium': 0.7348284960422163,\n",
       " ' g__Flectobacillus': 0.3192612137203166,\n",
       " ' g__Mycoplana': 0.3337730870712401,\n",
       " ' g__Megasphaera': 0.16886543535620058,\n",
       " ' g__Erythromicrobium': 0.35356200527704484,\n",
       " ' g__Gallicola': 0.7295514511873351,\n",
       " ' g__Conchiformibius': 0.70844327176781,\n",
       " ' g__Brevibacterium': 0.2229551451187335,\n",
       " ' g__Perlucidibaca': 0.22559366754617416,\n",
       " ' g__Segetibacter': 0.5329815303430079,\n",
       " ' g__Johnsonella': 0.49604221635883905,\n",
       " ' g__Williamsia': 0.5105540897097625,\n",
       " ' g__Psychrobacter': 0.09762532981530347,\n",
       " ' g__Lautropia': 0.079155672823219,\n",
       " ' g__Schwartzia': 0.14116094986807393,\n",
       " ' g__Alcaligenes': 0.7506596306068601,\n",
       " ' g__Propionibacterium': 0.05936675461741425,\n",
       " ' g__Pontibacter': 0.4907651715039578,\n",
       " ' g__Vibrio': 0.23482849604221634,\n",
       " ' g__Sarcina': 0.42348284960422167,\n",
       " ' g__Gaiella': 0.9102902374670184,\n",
       " ' g__Variovorax': 0.575197889182058,\n",
       " ' g__Mycobacterium': 0.5422163588390501,\n",
       " ' g__Turicibacter': 0.7480211081794195,\n",
       " ' g__Granulicatella': 0.13588390501319259,\n",
       " ' g__Cucurbita': 0.8139841688654353,\n",
       " ' g__Oceanisphaera': 0.23218997361477578,\n",
       " ' g__AF12': 0.4023746701846965,\n",
       " ' g__Arcanobacterium': 0.3324538258575198,\n",
       " ' g__Cardiobacterium': 0.06464379947229548,\n",
       " ' g__Megamonas': 0.8403693931398417}"
      ]
     },
     "execution_count": 10,
     "metadata": {},
     "output_type": "execute_result"
    }
   ],
   "source": [
    "osea_real.es"
   ]
  },
  {
   "cell_type": "code",
   "execution_count": 11,
   "metadata": {},
   "outputs": [],
   "source": [
    "final_result = {}\n",
    "for ele in set_enrichment_score:\n",
    "    distribution = OSEA.generate_distribution(set_enrichment_score[ele])\n",
    "    pvalue = OSEA.p_value(osea_real.es[ele],distribution)\n",
    "    final_result[ele]={'ES':osea_real.es[ele],'pvalue':pvalue}"
   ]
  },
  {
   "cell_type": "code",
   "execution_count": 12,
   "metadata": {
    "scrolled": true
   },
   "outputs": [
    {
     "name": "stdout",
     "output_type": "stream",
     "text": [
      " g__Subdoligranulum {'ES': 0.6490765171503958, 'pvalue': 0.04700000000000003}\n",
      " g__Clostridium {'ES': 0.47950071037142283, 'pvalue': 0.009000000000000001}\n",
      " g__Helcococcus {'ES': 0.7427440633245382, 'pvalue': 0.016000000000000004}\n",
      " g__Holdemania {'ES': 0.9775725593667546, 'pvalue': 0.041}\n",
      " g__Methylobacterium {'ES': 0.7704485488126649, 'pvalue': 0.003}\n",
      " g__Rhodococcus {'ES': 0.9934036939313984, 'pvalue': 0.02}\n",
      " g__Bergeyella {'ES': 0.7994722955145119, 'pvalue': 0.044000000000000025}\n",
      " g__Janthinobacterium {'ES': 0.7902374670184696, 'pvalue': 0.003}\n",
      " g__Blastococcus {'ES': 0.9947229551451188, 'pvalue': 0.027999999999999997}\n",
      " g__Arcobacter {'ES': 0.7532981530343008, 'pvalue': 0.003}\n",
      " g__Alicyclobacillus {'ES': 0.996042216358839, 'pvalue': 0.02}\n",
      " g__Filifactor {'ES': 0.7572559366754618, 'pvalue': 0.005}\n",
      " g__Desulfomicrobium {'ES': 0.7361477572559367, 'pvalue': 0.023000000000000013}\n",
      " g__Luteolibacter {'ES': 0.7440633245382586, 'pvalue': 0.02500000000000001}\n",
      " g__Cellvibrio {'ES': 0.7519788918205805, 'pvalue': 0.003}\n",
      " g__Tatlockia {'ES': 0.7216358839050132, 'pvalue': 0.005}\n",
      " g__Chloroidium {'ES': 0.7348284960422163, 'pvalue': 0.023000000000000013}\n",
      " g__Gallicola {'ES': 0.7295514511873351, 'pvalue': 0.03500000000000001}\n",
      " g__Conchiformibius {'ES': 0.70844327176781, 'pvalue': 0.033000000000000015}\n",
      " g__Alcaligenes {'ES': 0.7506596306068601, 'pvalue': 0.003}\n",
      " g__Turicibacter {'ES': 0.7480211081794195, 'pvalue': 0.025000000000000015}\n",
      "21\n"
     ]
    }
   ],
   "source": [
    "i = 0\n",
    "for ele in final_result:\n",
    "    if final_result[ele]['pvalue'] < 0.05:\n",
    "        print(ele,final_result[ele])\n",
    "        i+=1\n",
    "print(i)"
   ]
  },
  {
   "cell_type": "code",
   "execution_count": null,
   "metadata": {},
   "outputs": [],
   "source": []
  },
  {
   "cell_type": "code",
   "execution_count": null,
   "metadata": {},
   "outputs": [],
   "source": []
  },
  {
   "cell_type": "code",
   "execution_count": null,
   "metadata": {},
   "outputs": [],
   "source": []
  },
  {
   "cell_type": "code",
   "execution_count": null,
   "metadata": {},
   "outputs": [],
   "source": []
  },
  {
   "cell_type": "code",
   "execution_count": null,
   "metadata": {},
   "outputs": [],
   "source": []
  },
  {
   "cell_type": "code",
   "execution_count": null,
   "metadata": {},
   "outputs": [],
   "source": []
  },
  {
   "cell_type": "code",
   "execution_count": null,
   "metadata": {},
   "outputs": [],
   "source": []
  },
  {
   "cell_type": "code",
   "execution_count": null,
   "metadata": {},
   "outputs": [],
   "source": []
  },
  {
   "cell_type": "code",
   "execution_count": null,
   "metadata": {},
   "outputs": [],
   "source": []
  },
  {
   "cell_type": "code",
   "execution_count": null,
   "metadata": {},
   "outputs": [],
   "source": []
  },
  {
   "cell_type": "code",
   "execution_count": null,
   "metadata": {},
   "outputs": [],
   "source": []
  },
  {
   "cell_type": "code",
   "execution_count": null,
   "metadata": {},
   "outputs": [],
   "source": []
  },
  {
   "cell_type": "code",
   "execution_count": null,
   "metadata": {},
   "outputs": [],
   "source": []
  },
  {
   "cell_type": "code",
   "execution_count": null,
   "metadata": {
    "scrolled": true
   },
   "outputs": [],
   "source": []
  },
  {
   "cell_type": "code",
   "execution_count": null,
   "metadata": {},
   "outputs": [],
   "source": []
  },
  {
   "cell_type": "code",
   "execution_count": null,
   "metadata": {},
   "outputs": [],
   "source": []
  },
  {
   "cell_type": "code",
   "execution_count": null,
   "metadata": {},
   "outputs": [],
   "source": []
  },
  {
   "cell_type": "code",
   "execution_count": null,
   "metadata": {
    "scrolled": true
   },
   "outputs": [],
   "source": []
  },
  {
   "cell_type": "code",
   "execution_count": null,
   "metadata": {},
   "outputs": [],
   "source": []
  },
  {
   "cell_type": "code",
   "execution_count": null,
   "metadata": {},
   "outputs": [],
   "source": []
  },
  {
   "cell_type": "code",
   "execution_count": null,
   "metadata": {},
   "outputs": [],
   "source": []
  },
  {
   "cell_type": "code",
   "execution_count": null,
   "metadata": {},
   "outputs": [],
   "source": [
    "\n"
   ]
  },
  {
   "cell_type": "code",
   "execution_count": null,
   "metadata": {},
   "outputs": [],
   "source": []
  },
  {
   "cell_type": "code",
   "execution_count": null,
   "metadata": {
    "scrolled": true
   },
   "outputs": [],
   "source": []
  },
  {
   "cell_type": "code",
   "execution_count": null,
   "metadata": {},
   "outputs": [],
   "source": []
  },
  {
   "cell_type": "code",
   "execution_count": null,
   "metadata": {},
   "outputs": [],
   "source": []
  },
  {
   "cell_type": "code",
   "execution_count": null,
   "metadata": {
    "scrolled": false
   },
   "outputs": [],
   "source": []
  },
  {
   "cell_type": "code",
   "execution_count": null,
   "metadata": {},
   "outputs": [],
   "source": []
  },
  {
   "cell_type": "code",
   "execution_count": null,
   "metadata": {},
   "outputs": [],
   "source": []
  },
  {
   "cell_type": "code",
   "execution_count": null,
   "metadata": {},
   "outputs": [],
   "source": []
  },
  {
   "cell_type": "code",
   "execution_count": null,
   "metadata": {},
   "outputs": [],
   "source": []
  },
  {
   "cell_type": "code",
   "execution_count": null,
   "metadata": {},
   "outputs": [],
   "source": []
  },
  {
   "cell_type": "code",
   "execution_count": null,
   "metadata": {},
   "outputs": [],
   "source": [
    "\n"
   ]
  },
  {
   "cell_type": "code",
   "execution_count": null,
   "metadata": {},
   "outputs": [],
   "source": []
  },
  {
   "cell_type": "code",
   "execution_count": null,
   "metadata": {},
   "outputs": [],
   "source": []
  },
  {
   "cell_type": "code",
   "execution_count": null,
   "metadata": {},
   "outputs": [],
   "source": []
  },
  {
   "cell_type": "code",
   "execution_count": null,
   "metadata": {},
   "outputs": [],
   "source": []
  },
  {
   "cell_type": "code",
   "execution_count": null,
   "metadata": {},
   "outputs": [],
   "source": []
  },
  {
   "cell_type": "code",
   "execution_count": null,
   "metadata": {},
   "outputs": [],
   "source": []
  },
  {
   "cell_type": "code",
   "execution_count": null,
   "metadata": {},
   "outputs": [],
   "source": []
  },
  {
   "cell_type": "code",
   "execution_count": null,
   "metadata": {},
   "outputs": [],
   "source": []
  },
  {
   "cell_type": "code",
   "execution_count": null,
   "metadata": {},
   "outputs": [],
   "source": []
  },
  {
   "cell_type": "code",
   "execution_count": null,
   "metadata": {},
   "outputs": [],
   "source": [
    "\n"
   ]
  },
  {
   "cell_type": "code",
   "execution_count": null,
   "metadata": {},
   "outputs": [],
   "source": []
  },
  {
   "cell_type": "code",
   "execution_count": null,
   "metadata": {},
   "outputs": [],
   "source": []
  },
  {
   "cell_type": "code",
   "execution_count": null,
   "metadata": {},
   "outputs": [],
   "source": []
  },
  {
   "cell_type": "code",
   "execution_count": null,
   "metadata": {},
   "outputs": [],
   "source": []
  },
  {
   "cell_type": "code",
   "execution_count": null,
   "metadata": {},
   "outputs": [],
   "source": []
  },
  {
   "cell_type": "code",
   "execution_count": null,
   "metadata": {},
   "outputs": [],
   "source": []
  },
  {
   "cell_type": "code",
   "execution_count": null,
   "metadata": {},
   "outputs": [],
   "source": []
  },
  {
   "cell_type": "code",
   "execution_count": null,
   "metadata": {},
   "outputs": [],
   "source": []
  },
  {
   "cell_type": "code",
   "execution_count": null,
   "metadata": {},
   "outputs": [],
   "source": []
  },
  {
   "cell_type": "code",
   "execution_count": null,
   "metadata": {},
   "outputs": [],
   "source": []
  },
  {
   "cell_type": "code",
   "execution_count": null,
   "metadata": {},
   "outputs": [],
   "source": []
  },
  {
   "cell_type": "code",
   "execution_count": null,
   "metadata": {},
   "outputs": [],
   "source": []
  },
  {
   "cell_type": "code",
   "execution_count": null,
   "metadata": {},
   "outputs": [],
   "source": []
  },
  {
   "cell_type": "code",
   "execution_count": null,
   "metadata": {},
   "outputs": [],
   "source": []
  },
  {
   "cell_type": "code",
   "execution_count": null,
   "metadata": {},
   "outputs": [],
   "source": []
  },
  {
   "cell_type": "code",
   "execution_count": null,
   "metadata": {},
   "outputs": [],
   "source": []
  },
  {
   "cell_type": "code",
   "execution_count": null,
   "metadata": {},
   "outputs": [],
   "source": []
  },
  {
   "cell_type": "code",
   "execution_count": null,
   "metadata": {},
   "outputs": [],
   "source": []
  },
  {
   "cell_type": "code",
   "execution_count": null,
   "metadata": {},
   "outputs": [],
   "source": []
  },
  {
   "cell_type": "code",
   "execution_count": null,
   "metadata": {},
   "outputs": [],
   "source": []
  }
 ],
 "metadata": {
  "kernelspec": {
   "display_name": "Python 3",
   "language": "python",
   "name": "python3"
  },
  "language_info": {
   "codemirror_mode": {
    "name": "ipython",
    "version": 3
   },
   "file_extension": ".py",
   "mimetype": "text/x-python",
   "name": "python",
   "nbconvert_exporter": "python",
   "pygments_lexer": "ipython3",
   "version": "3.6.6"
  }
 },
 "nbformat": 4,
 "nbformat_minor": 2
}
