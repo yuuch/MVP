{
 "cells": [
  {
   "cell_type": "code",
   "execution_count": 1,
   "metadata": {},
   "outputs": [],
   "source": [
    "#import biom\n",
    "import numpy as np\n",
    "\n",
    "import os\n",
    "import OSEA\n",
    "\n",
    "import pandas as pd"
   ]
  },
  {
   "cell_type": "code",
   "execution_count": 2,
   "metadata": {},
   "outputs": [],
   "source": [
    "#cwd = os.getcwd()\n",
    "metadata_filename = os.path.join('', 'upload_files/demo/demo_metadata.tsv')\n",
    "with open(metadata_filename) as metadata_file:\n",
    "    metadata = pd.read_csv(metadata_file, sep='\\t') "
   ]
  },
  {
   "cell_type": "code",
   "execution_count": 3,
   "metadata": {},
   "outputs": [],
   "source": [
    "import biom"
   ]
  },
  {
   "cell_type": "code",
   "execution_count": 4,
   "metadata": {},
   "outputs": [],
   "source": [
    "feature_table = os.path.join('','upload_files/feature-table.biom')\n",
    "#with open(feature_table_filename) as feature_table_file:\n",
    "table  = biom.load_table(feature_table).to_dataframe().transpose()\n",
    "    #feature_table = "
   ]
  },
  {
   "cell_type": "code",
   "execution_count": 5,
   "metadata": {},
   "outputs": [],
   "source": [
    "taxonomy_filename = os.path.join('','upload_files/taxonomy.tsv')"
   ]
  },
  {
   "cell_type": "code",
   "execution_count": 15,
   "metadata": {},
   "outputs": [],
   "source": [
    "import time"
   ]
  },
  {
   "cell_type": "code",
   "execution_count": 18,
   "metadata": {},
   "outputs": [
    {
     "name": "stdout",
     "output_type": "stream",
     "text": [
      "#######____0___####\n",
      "#######____1___####\n",
      "#######____2___####\n",
      "#######____3___####\n",
      "#######____4___####\n",
      "#######____5___####\n",
      "#######____6___####\n",
      "#######____7___####\n",
      "#######____8___####\n",
      "#######____9___####\n",
      "#######____10___####\n",
      "#######____11___####\n",
      "#######____12___####\n",
      "#######____13___####\n",
      "#######____14___####\n",
      "#######____15___####\n",
      "#######____16___####\n",
      "#######____17___####\n",
      "#######____18___####\n",
      "#######____19___####\n",
      "#######____20___####\n",
      "#######____21___####\n",
      "#######____22___####\n",
      "#######____23___####\n",
      "#######____24___####\n",
      "#######____25___####\n",
      "#######____26___####\n",
      "#######____27___####\n",
      "#######____28___####\n",
      "#######____29___####\n",
      "#######____30___####\n",
      "#######____31___####\n",
      "#######____32___####\n",
      "#######____33___####\n",
      "#######____34___####\n",
      "#######____35___####\n",
      "#######____36___####\n",
      "#######____37___####\n",
      "#######____38___####\n",
      "#######____39___####\n",
      "#######____40___####\n",
      "#######____41___####\n",
      "#######____42___####\n",
      "#######____43___####\n",
      "#######____44___####\n",
      "#######____45___####\n",
      "#######____46___####\n",
      "#######____47___####\n",
      "#######____48___####\n",
      "#######____49___####\n",
      "#######____50___####\n",
      "#######____51___####\n",
      "#######____52___####\n",
      "#######____53___####\n",
      "#######____54___####\n",
      "#######____55___####\n",
      "#######____56___####\n",
      "#######____57___####\n",
      "#######____58___####\n",
      "#######____59___####\n",
      "#######____60___####\n",
      "#######____61___####\n",
      "#######____62___####\n",
      "#######____63___####\n",
      "#######____64___####\n",
      "#######____65___####\n",
      "#######____66___####\n",
      "#######____67___####\n",
      "#######____68___####\n",
      "#######____69___####\n",
      "#######____70___####\n",
      "#######____71___####\n",
      "#######____72___####\n",
      "#######____73___####\n",
      "#######____74___####\n",
      "#######____75___####\n",
      "#######____76___####\n",
      "#######____77___####\n",
      "#######____78___####\n",
      "#######____79___####\n",
      "#######____80___####\n",
      "#######____81___####\n",
      "#######____82___####\n",
      "#######____83___####\n",
      "#######____84___####\n",
      "#######____85___####\n",
      "#######____86___####\n",
      "#######____87___####\n",
      "#######____88___####\n",
      "#######____89___####\n",
      "#######____90___####\n",
      "#######____91___####\n",
      "#######____92___####\n",
      "#######____93___####\n",
      "#######____94___####\n",
      "#######____95___####\n",
      "#######____96___####\n",
      "#######____97___####\n",
      "#######____98___####\n",
      "#######____99___####\n"
     ]
    }
   ],
   "source": [
    "enrichment_scores = []\n",
    "tic = time.time()\n",
    "for i in range(100):\n",
    "    print('#######____'+str(i)+'___####')\n",
    "    rank_list = OSEA.permutation_to_obtain_ranklist(feature_table)\n",
    "    osea = OSEA.OSEA(rank_list, Taxon_file=taxonomy_filename)\n",
    "    enrichment_scores.append(osea.es)\n",
    "new_tic = time.time()"
   ]
  },
  {
   "cell_type": "code",
   "execution_count": 25,
   "metadata": {},
   "outputs": [
    {
     "name": "stdout",
     "output_type": "stream",
     "text": [
      "the time used is 709.45307 seconds\n"
     ]
    }
   ],
   "source": [
    "print('the time used is %.5f seconds'%(new_tic-tic))"
   ]
  },
  {
   "cell_type": "code",
   "execution_count": null,
   "metadata": {},
   "outputs": [],
   "source": [
    "genus_scores = []\n",
    "tic = time.time()\n",
    "for i in range(100):\n",
    "    rank_list = OSEA.permutation_to_obtain_ranklist(feature_table)\n",
    "    osea = OSEA.OSEA(rank_list, Taxon_file=taxonomy_filename,set_level='Genus')\n",
    "    genus_scores.append(osea.es)\n",
    "new_tic = time.time()"
   ]
  },
  {
   "cell_type": "code",
   "execution_count": null,
   "metadata": {},
   "outputs": [],
   "source": [
    "plt.hist(genus_scores, bins=100)\n",
    "plt.show()"
   ]
  },
  {
   "cell_type": "code",
   "execution_count": 27,
   "metadata": {},
   "outputs": [
    {
     "ename": "AttributeError",
     "evalue": "'OSEA' object has no attribute 'es_point'",
     "output_type": "error",
     "traceback": [
      "\u001b[0;31m---------------------------------------------------------------------------\u001b[0m",
      "\u001b[0;31mAttributeError\u001b[0m                            Traceback (most recent call last)",
      "\u001b[0;32m<ipython-input-27-eac890939b00>\u001b[0m in \u001b[0;36m<module>\u001b[0;34m()\u001b[0m\n\u001b[0;32m----> 1\u001b[0;31m \u001b[0mplt\u001b[0m\u001b[0;34m.\u001b[0m\u001b[0mplot\u001b[0m\u001b[0;34m(\u001b[0m\u001b[0mosea\u001b[0m\u001b[0;34m.\u001b[0m\u001b[0mes_point\u001b[0m\u001b[0;34m)\u001b[0m\u001b[0;34m\u001b[0m\u001b[0m\n\u001b[0m\u001b[1;32m      2\u001b[0m \u001b[0mplt\u001b[0m\u001b[0;34m.\u001b[0m\u001b[0mshow\u001b[0m\u001b[0;34m(\u001b[0m\u001b[0;34m)\u001b[0m\u001b[0;34m\u001b[0m\u001b[0m\n",
      "\u001b[0;31mAttributeError\u001b[0m: 'OSEA' object has no attribute 'es_point'"
     ]
    }
   ],
   "source": [
    "plt.plot(osea.es_point)\n",
    "plt.show()"
   ]
  },
  {
   "cell_type": "code",
   "execution_count": 20,
   "metadata": {},
   "outputs": [],
   "source": [
    "values, indexes = np.histogram(enrichment_scores,bins=100)"
   ]
  },
  {
   "cell_type": "code",
   "execution_count": 22,
   "metadata": {
    "scrolled": true
   },
   "outputs": [
    {
     "data": {
      "text/plain": [
       "array([-0.99953929, -0.99952669, -0.99951408, -0.99950148, -0.99948887,\n",
       "       -0.99947627, -0.99946366, -0.99945106, -0.99943845, -0.99942585,\n",
       "       -0.99941324, -0.99940064, -0.99938803, -0.99937543, -0.99936282,\n",
       "       -0.99935022, -0.99933761, -0.99932501, -0.9993124 , -0.9992998 ,\n",
       "       -0.99928719, -0.99927459, -0.99926198, -0.99924938, -0.99923677,\n",
       "       -0.99922417, -0.99921156, -0.99919896, -0.99918635, -0.99917375,\n",
       "       -0.99916114, -0.99914854, -0.99913593, -0.99912333, -0.99911072,\n",
       "       -0.99909812, -0.99908551, -0.99907291, -0.9990603 , -0.9990477 ,\n",
       "       -0.99903509, -0.99902249, -0.99900988, -0.99899728, -0.99898467,\n",
       "       -0.99897207, -0.99895946, -0.99894686, -0.99893425, -0.99892165,\n",
       "       -0.99890904, -0.99889644, -0.99888383, -0.99887123, -0.99885862,\n",
       "       -0.99884602, -0.99883341, -0.99882081, -0.9988082 , -0.99879559,\n",
       "       -0.99878299, -0.99877038, -0.99875778, -0.99874517, -0.99873257,\n",
       "       -0.99871996, -0.99870736, -0.99869475, -0.99868215, -0.99866954,\n",
       "       -0.99865694, -0.99864433, -0.99863173, -0.99861912, -0.99860652,\n",
       "       -0.99859391, -0.99858131, -0.9985687 , -0.9985561 , -0.99854349,\n",
       "       -0.99853089, -0.99851828, -0.99850568, -0.99849307, -0.99848047,\n",
       "       -0.99846786, -0.99845526, -0.99844265, -0.99843005, -0.99841744,\n",
       "       -0.99840484, -0.99839223, -0.99837963, -0.99836702, -0.99835442,\n",
       "       -0.99834181, -0.99832921, -0.9983166 , -0.998304  , -0.99829139,\n",
       "       -0.99827879])"
      ]
     },
     "execution_count": 22,
     "metadata": {},
     "output_type": "execute_result"
    }
   ],
   "source": [
    "indexes"
   ]
  },
  {
   "cell_type": "code",
   "execution_count": 24,
   "metadata": {},
   "outputs": [
    {
     "data": {
      "image/png": "[encoded data removed]",
      "text/plain": [
       "<Figure size 432x288 with 1 Axes>"
      ]
     },
     "metadata": {},
     "output_type": "display_data"
    }
   ],
   "source": [
    "import matplotlib.pyplot as plt\n",
    "plt.hist(enrichment_scores, bins=100)\n",
    "plt.show()"
   ]
  },
  {
   "cell_type": "code",
   "execution_count": 9,
   "metadata": {},
   "outputs": [
    {
     "name": "stdout",
     "output_type": "stream",
     "text": [
      "-2\n"
     ]
    }
   ],
   "source": [
    "a= [-2,1,0]\n",
    "\n",
    "m = max(a)\n",
    "\n",
    "absm = max(map(abs,a))\n",
    "\n",
    "if absm>m:\n",
    "    print(-absm)\n",
    "else:\n",
    "    print(m)"
   ]
  },
  {
   "cell_type": "code",
   "execution_count": null,
   "metadata": {},
   "outputs": [],
   "source": []
  },
  {
   "cell_type": "code",
   "execution_count": null,
   "metadata": {
    "scrolled": true
   },
   "outputs": [],
   "source": []
  },
  {
   "cell_type": "code",
   "execution_count": null,
   "metadata": {},
   "outputs": [],
   "source": []
  },
  {
   "cell_type": "code",
   "execution_count": null,
   "metadata": {},
   "outputs": [],
   "source": []
  },
  {
   "cell_type": "code",
   "execution_count": null,
   "metadata": {},
   "outputs": [],
   "source": []
  },
  {
   "cell_type": "code",
   "execution_count": null,
   "metadata": {},
   "outputs": [],
   "source": [
    "\n"
   ]
  },
  {
   "cell_type": "code",
   "execution_count": null,
   "metadata": {},
   "outputs": [],
   "source": []
  },
  {
   "cell_type": "code",
   "execution_count": 10,
   "metadata": {
    "scrolled": true
   },
   "outputs": [
    {
     "ename": "NameError",
     "evalue": "name 'trans' is not defined",
     "output_type": "error",
     "traceback": [
      "\u001b[0;31m---------------------------------------------------------------------------\u001b[0m",
      "\u001b[0;31mNameError\u001b[0m                                 Traceback (most recent call last)",
      "\u001b[0;32m<ipython-input-10-1df2f4cfdf28>\u001b[0m in \u001b[0;36m<module>\u001b[0;34m()\u001b[0m\n\u001b[1;32m      5\u001b[0m \u001b[0;34m\u001b[0m\u001b[0m\n\u001b[1;32m      6\u001b[0m \u001b[0;34m\u001b[0m\u001b[0m\n\u001b[0;32m----> 7\u001b[0;31m \u001b[0mdata\u001b[0m \u001b[0;34m=\u001b[0m \u001b[0;34m[\u001b[0m\u001b[0mgo\u001b[0m\u001b[0;34m.\u001b[0m\u001b[0mHeatmap\u001b[0m\u001b[0;34m(\u001b[0m \u001b[0mz\u001b[0m\u001b[0;34m=\u001b[0m\u001b[0mtrans\u001b[0m\u001b[0;34m.\u001b[0m\u001b[0mvalues\u001b[0m\u001b[0;34m.\u001b[0m\u001b[0mtolist\u001b[0m\u001b[0;34m(\u001b[0m\u001b[0;34m)\u001b[0m\u001b[0;34m,\u001b[0m \u001b[0mcolorscale\u001b[0m\u001b[0;34m=\u001b[0m\u001b[0;34m'Viridis'\u001b[0m\u001b[0;34m)\u001b[0m\u001b[0;34m]\u001b[0m\u001b[0;34m\u001b[0m\u001b[0m\n\u001b[0m\u001b[1;32m      8\u001b[0m \u001b[0;34m\u001b[0m\u001b[0m\n\u001b[1;32m      9\u001b[0m \u001b[0mplotly\u001b[0m\u001b[0;34m.\u001b[0m\u001b[0moffline\u001b[0m\u001b[0;34m.\u001b[0m\u001b[0mplot\u001b[0m\u001b[0;34m(\u001b[0m\u001b[0mdata\u001b[0m\u001b[0;34m,\u001b[0m \u001b[0mfilename\u001b[0m\u001b[0;34m=\u001b[0m\u001b[0;34m'pandas-heatmap'\u001b[0m\u001b[0;34m,\u001b[0m\u001b[0mformat\u001b[0m\u001b[0;34m=\u001b[0m\u001b[0;34m'div'\u001b[0m\u001b[0;34m)\u001b[0m\u001b[0;34m\u001b[0m\u001b[0m\n",
      "\u001b[0;31mNameError\u001b[0m: name 'trans' is not defined"
     ]
    }
   ],
   "source": [
    "import plotly \n",
    "import plotly.graph_objs as go\n",
    "\n",
    "import pandas as pd\n",
    "\n",
    "\n",
    "data = [go.Heatmap( z=trans.values.tolist(), colorscale='Viridis')]\n",
    "\n",
    "plotly.offline.plot(data, filename='pandas-heatmap',format='div')"
   ]
  },
  {
   "cell_type": "code",
   "execution_count": null,
   "metadata": {},
   "outputs": [],
   "source": [
    "print(table.metadata())"
   ]
  },
  {
   "cell_type": "code",
   "execution_count": null,
   "metadata": {},
   "outputs": [],
   "source": [
    "table = biom.load_table('feature-table.biom')"
   ]
  },
  {
   "cell_type": "code",
   "execution_count": null,
   "metadata": {
    "scrolled": false
   },
   "outputs": [],
   "source": [
    "print(table.metadata())"
   ]
  },
  {
   "cell_type": "code",
   "execution_count": null,
   "metadata": {},
   "outputs": [],
   "source": [
    "sns.heatmap(table.to_dataframe())"
   ]
  },
  {
   "cell_type": "code",
   "execution_count": null,
   "metadata": {},
   "outputs": [],
   "source": [
    "def fun(*args):\n",
    "    l = [ele for ele in args]\n",
    "    print(l)\n",
    "fun('a','c','e')"
   ]
  },
  {
   "cell_type": "code",
   "execution_count": null,
   "metadata": {},
   "outputs": [],
   "source": [
    "kwargs = {\"arg1\":'c1'}"
   ]
  },
  {
   "cell_type": "code",
   "execution_count": null,
   "metadata": {},
   "outputs": [],
   "source": [
    "fun(**kwargs)"
   ]
  },
  {
   "cell_type": "code",
   "execution_count": null,
   "metadata": {},
   "outputs": [],
   "source": [
    "list(df.columns)"
   ]
  },
  {
   "cell_type": "code",
   "execution_count": null,
   "metadata": {},
   "outputs": [],
   "source": [
    "a=[1,3,4]\n",
    "b=[1]\n"
   ]
  },
  {
   "cell_type": "code",
   "execution_count": null,
   "metadata": {},
   "outputs": [],
   "source": [
    "a=[]"
   ]
  },
  {
   "cell_type": "code",
   "execution_count": null,
   "metadata": {},
   "outputs": [],
   "source": [
    "a.append((1,2))"
   ]
  },
  {
   "cell_type": "code",
   "execution_count": null,
   "metadata": {},
   "outputs": [],
   "source": [
    "a"
   ]
  },
  {
   "cell_type": "code",
   "execution_count": null,
   "metadata": {},
   "outputs": [],
   "source": [
    "a[0]"
   ]
  },
  {
   "cell_type": "code",
   "execution_count": null,
   "metadata": {},
   "outputs": [],
   "source": [
    "df = pd.DataFrame({\n",
    "...     'col2' : [2, 1, 9, 8, 7, 4],\n",
    "...     'col3': [0, 1, 9, 4, 2, 3],\n",
    "... })"
   ]
  },
  {
   "cell_type": "code",
   "execution_count": null,
   "metadata": {},
   "outputs": [],
   "source": [
    "df"
   ]
  },
  {
   "cell_type": "code",
   "execution_count": null,
   "metadata": {},
   "outputs": [],
   "source": [
    "s=df.iloc[[0,3,2],:]\n",
    "s.index=(range(3))\n",
    "s"
   ]
  },
  {
   "cell_type": "code",
   "execution_count": null,
   "metadata": {},
   "outputs": [],
   "source": [
    "import plotly.graph_objs as go\n",
    "data = [go.Heatmap( z=df.values.tolist(), colorscale='Viridis')]"
   ]
  },
  {
   "cell_type": "code",
   "execution_count": null,
   "metadata": {},
   "outputs": [],
   "source": [
    "s=plotly.offline.plot(data,filename='result.html',output_type='div')"
   ]
  },
  {
   "cell_type": "code",
   "execution_count": null,
   "metadata": {},
   "outputs": [],
   "source": [
    "s\n"
   ]
  },
  {
   "cell_type": "code",
   "execution_count": null,
   "metadata": {},
   "outputs": [],
   "source": [
    "s = plotly.offline.plot(data,output_type='div')"
   ]
  },
  {
   "cell_type": "code",
   "execution_count": null,
   "metadata": {},
   "outputs": [],
   "source": [
    "s='<div>'+s+'<\\/div>'l"
   ]
  },
  {
   "cell_type": "code",
   "execution_count": null,
   "metadata": {},
   "outputs": [],
   "source": [
    "f = open('test.div','w')\n",
    "f.write(s)"
   ]
  },
  {
   "cell_type": "code",
   "execution_count": null,
   "metadata": {},
   "outputs": [],
   "source": [
    "new_df = new_df.reindex()\n",
    "new_df.index =list(range(4))"
   ]
  },
  {
   "cell_type": "code",
   "execution_count": null,
   "metadata": {},
   "outputs": [],
   "source": [
    "df"
   ]
  },
  {
   "cell_type": "code",
   "execution_count": null,
   "metadata": {},
   "outputs": [],
   "source": [
    "cols = df.columns\n",
    "df[cols[1]]"
   ]
  },
  {
   "cell_type": "code",
   "execution_count": null,
   "metadata": {},
   "outputs": [],
   "source": [
    "import copy\n",
    "a = [2,3,1]\n",
    "b = copy.copy(a)\n",
    "b[0]=111\n",
    "print(a)"
   ]
  },
  {
   "cell_type": "code",
   "execution_count": null,
   "metadata": {},
   "outputs": [],
   "source": [
    "b"
   ]
  },
  {
   "cell_type": "code",
   "execution_count": null,
   "metadata": {},
   "outputs": [],
   "source": [
    "len(new_df['col1'])"
   ]
  },
  {
   "cell_type": "code",
   "execution_count": null,
   "metadata": {},
   "outputs": [],
   "source": [
    "b.remove(111)"
   ]
  },
  {
   "cell_type": "code",
   "execution_count": null,
   "metadata": {},
   "outputs": [],
   "source": [
    "b"
   ]
  },
  {
   "cell_type": "code",
   "execution_count": null,
   "metadata": {},
   "outputs": [],
   "source": [
    "np.std(new_df['col2'])"
   ]
  },
  {
   "cell_type": "code",
   "execution_count": null,
   "metadata": {},
   "outputs": [],
   "source": [
    "d= {'c':1,'b':3,'a':2}\n",
    "sorted(d,key =d.get)"
   ]
  },
  {
   "cell_type": "code",
   "execution_count": null,
   "metadata": {},
   "outputs": [],
   "source": []
  },
  {
   "cell_type": "code",
   "execution_count": null,
   "metadata": {},
   "outputs": [],
   "source": [
    "a=1"
   ]
  },
  {
   "cell_type": "code",
   "execution_count": null,
   "metadata": {},
   "outputs": [],
   "source": [
    "test = ['','','None']"
   ]
  },
  {
   "cell_type": "code",
   "execution_count": null,
   "metadata": {},
   "outputs": [],
   "source": [
    "if '' in test:\n",
    "    test.remove('')\n",
    "test"
   ]
  },
  {
   "cell_type": "code",
   "execution_count": null,
   "metadata": {},
   "outputs": [],
   "source": [
    "if 'None' in test:\n",
    "    test.remove('None')"
   ]
  },
  {
   "cell_type": "code",
   "execution_count": null,
   "metadata": {},
   "outputs": [],
   "source": [
    "test"
   ]
  },
  {
   "cell_type": "code",
   "execution_count": null,
   "metadata": {},
   "outputs": [],
   "source": []
  }
 ],
 "metadata": {
  "kernelspec": {
   "display_name": "Python 3",
   "language": "python",
   "name": "python3"
  },
  "language_info": {
   "codemirror_mode": {
    "name": "ipython",
    "version": 3
   },
   "file_extension": ".py",
   "mimetype": "text/x-python",
   "name": "python",
   "nbconvert_exporter": "python",
   "pygments_lexer": "ipython3",
   "version": "3.6.6"
  }
 },
 "nbformat": 4,
 "nbformat_minor": 2
}
