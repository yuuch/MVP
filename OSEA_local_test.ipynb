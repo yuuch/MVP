{
 "cells": [
  {
   "cell_type": "code",
   "execution_count": 1,
   "metadata": {},
   "outputs": [],
   "source": [
    "#import biom\n",
    "import numpy as np\n",
    "\n",
    "import os\n",
    "import OSEA\n",
    "\n",
    "import pandas as pd\n",
    "\n",
    "import biom\n",
    "import heatmap"
   ]
  },
  {
   "cell_type": "code",
   "execution_count": 2,
   "metadata": {},
   "outputs": [],
   "source": [
    "taxonomy_filename = os.path.join('','upload_files/taxonomy.tsv')"
   ]
  },
  {
   "cell_type": "code",
   "execution_count": 3,
   "metadata": {},
   "outputs": [],
   "source": [
    "feature_table = os.path.join('','upload_files/feature-table.biom')\n",
    "#with open(feature_table_filename) as feature_table_file:\n",
    "table  = biom.load_table(feature_table).to_dataframe().transpose()\n",
    "    #feature_table = "
   ]
  },
  {
   "cell_type": "code",
   "execution_count": 4,
   "metadata": {},
   "outputs": [],
   "source": [
    "#cwd = os.getcwd()\n",
    "metadata_filename = os.path.join('', 'upload_files/demo/demo_metadata.tsv')\n",
    "with open(metadata_filename) as metadata_file:\n",
    "    metadata = pd.read_csv(metadata_file, sep='\\t') "
   ]
  },
  {
   "cell_type": "code",
   "execution_count": 5,
   "metadata": {},
   "outputs": [
    {
     "name": "stdout",
     "output_type": "stream",
     "text": [
      "Index(['L1S105', 'L1S140', 'L1S208', 'L1S257', 'L1S281', 'L1S57', 'L1S76',\n",
      "       'L1S8', 'L2S155', 'L2S175', 'L2S204', 'L2S222', 'L2S240', 'L2S309',\n",
      "       'L2S357', 'L2S382', 'L3S242', 'L3S294', 'L3S313', 'L3S341', 'L3S360',\n",
      "       'L3S378', 'L4S112', 'L4S137', 'L4S63', 'L5S104', 'L5S155', 'L5S174',\n",
      "       'L5S203', 'L5S222', 'L5S240', 'L6S20', 'L6S68', 'L6S93'],\n",
      "      dtype='object')\n"
     ]
    }
   ],
   "source": [
    "heatmap_instance = heatmap.Heatmap(metadata_filename,feature_table)\n",
    "heatmap_instance.map()"
   ]
  },
  {
   "cell_type": "code",
   "execution_count": 6,
   "metadata": {},
   "outputs": [],
   "source": [
    "import stats_test\n",
    "\n",
    "part1, part2 = stats_test.choose_two_class(heatmap_instance.df,'Subject')\n",
    "part1 = part1[heatmap_instance.df_primary_col]\n",
    "part2 = part2[heatmap_instance.df_primary_col]\n",
    "\n",
    "def obtain_rank_list(df1, df2, test_method_name='t_test'):\n",
    "    methods = {'t_test': stats_test.t_test,\n",
    "               'F_test': stats_test.F_test}\n",
    "    test_method = methods[test_method_name]\n",
    "    rank_list_unsort = {}\n",
    "    for col in part1.columns:\n",
    "        tmp_pvalue = test_method(part1[col],part2[col])\n",
    "        rank_list_unsort[col]=tmp_pvalue\n",
    "    tmp_list = sorted(rank_list_unsort, key=rank_list_unsort.get,reverse=True)\n",
    "    rank_list = {}\n",
    "    for ele in tmp_list:\n",
    "        rank_list[ele]=rank_list_unsort[ele]\n",
    "    return rank_list\n",
    "\n",
    "rank_list = obtain_rank_list(part1,part2)\n",
    "\n",
    "#rank_list\n",
    "\n",
    "osea_real = OSEA.OSEA(rank_list,Taxon_file=taxonomy_filename,set_level='Genus')"
   ]
  },
  {
   "cell_type": "code",
   "execution_count": 7,
   "metadata": {},
   "outputs": [],
   "source": [
    "import time"
   ]
  },
  {
   "cell_type": "code",
   "execution_count": 9,
   "metadata": {},
   "outputs": [],
   "source": [
    "#rank_list = OSEA.permutation_to_obtain_ranklist(feature_table)\n",
    "#osea = OSEA.OSEA(rank_list, Taxon_file=taxonomy_filename)"
   ]
  },
  {
   "cell_type": "code",
   "execution_count": null,
   "metadata": {},
   "outputs": [],
   "source": [
    "\n"
   ]
  },
  {
   "cell_type": "code",
   "execution_count": null,
   "metadata": {},
   "outputs": [],
   "source": [
    "#import matplotlib.pyplot as plt"
   ]
  },
  {
   "cell_type": "markdown",
   "metadata": {},
   "source": [
    "tmp = 0\n",
    "i = 1\n",
    "\n",
    "for ele in osea.set_es:\n",
    "    tmp = osea.set_es[ele]\n",
    "    plt.subplot(4,5,i)\n",
    "    plt.plot(tmp)\n",
    "    i+=1"
   ]
  },
  {
   "cell_type": "code",
   "execution_count": null,
   "metadata": {},
   "outputs": [],
   "source": [
    "\n",
    "#plt.show()"
   ]
  },
  {
   "cell_type": "code",
   "execution_count": null,
   "metadata": {},
   "outputs": [],
   "source": [
    "#osea.set_hit_count"
   ]
  },
  {
   "cell_type": "code",
   "execution_count": null,
   "metadata": {},
   "outputs": [],
   "source": []
  },
  {
   "cell_type": "code",
   "execution_count": null,
   "metadata": {},
   "outputs": [],
   "source": []
  },
  {
   "cell_type": "code",
   "execution_count": null,
   "metadata": {},
   "outputs": [
    {
     "name": "stdout",
     "output_type": "stream",
     "text": [
      "the 0 th permutation used 108 seconds\n",
      "the 1 th permutation used 108 seconds\n",
      "the 2 th permutation used 107 seconds\n",
      "the 3 th permutation used 108 seconds\n"
     ]
    }
   ],
   "source": [
    "enrichment_scores = []\n",
    "tic = time.time()\n",
    "first_tic = time.time()\n",
    "tmp_df = heatmap_instance.df[heatmap_instance.df_primary_col]\n",
    "for i in range(100):\n",
    "    #print('#######____'+str(i)+'___####')\n",
    "    rank_list = OSEA.permutation_to_obtain_ranklist(tmp_df)\n",
    "    es = osea_real.get_ES(rank_list)\n",
    "    enrichment_scores.append(es)\n",
    "    #osea.es\n",
    "    new_tic = time.time()\n",
    "    print('the %d th permutation used %d seconds'%(i,new_tic-tic))\n",
    "    tic = new_tic\n",
    "new_tic = time.time()\n",
    "print('the total time used is %.4f'%(new_tic-first_tic))"
   ]
  },
  {
   "cell_type": "code",
   "execution_count": null,
   "metadata": {},
   "outputs": [],
   "source": [
    "len(enrichment_scores)"
   ]
  },
  {
   "cell_type": "code",
   "execution_count": null,
   "metadata": {},
   "outputs": [],
   "source": [
    "print('the time used is %.5f seconds'%(new_tic-tic))"
   ]
  },
  {
   "cell_type": "code",
   "execution_count": null,
   "metadata": {},
   "outputs": [],
   "source": [
    "#for i in range(100):\n",
    "set_enrichment_score = {}\n",
    "for key in enrichment_scores[0]:\n",
    "    set_enrichment_score[key] = []\n",
    "    for i in range(100):\n",
    "        set_enrichment_score[key].append(enrichment_scores[i][key])\n"
   ]
  },
  {
   "cell_type": "code",
   "execution_count": null,
   "metadata": {},
   "outputs": [],
   "source": [
    "i = 1\n",
    "for ele in set_enrichment_score:\n",
    "    plt.subplot(5,4,i)\n",
    "    plt.hist(set_enrichment_score[ele],bins=25)\n",
    "    i += 1\n",
    "plt.show()"
   ]
  },
  {
   "cell_type": "code",
   "execution_count": null,
   "metadata": {},
   "outputs": [],
   "source": [
    "final_result = {}\n",
    "for ele in set_enrichment_score:\n",
    "    distribution = OSEA.generate_distribution(set_enrichment_score[ele])\n",
    "    pvalue = OSEA.p_value(osea_real.es[ele],distribution)\n",
    "    final_result[ele]={'ES':osea_real.es[ele],'pvalue':pvalue}"
   ]
  },
  {
   "cell_type": "code",
   "execution_count": null,
   "metadata": {
    "scrolled": true
   },
   "outputs": [],
   "source": [
    "i = 0\n",
    "for ele in final_result:\n",
    "    if final_result[ele]['pvalue'] < 0.05:\n",
    "        print(ele,final_result[ele])\n",
    "        i+=1\n",
    "print(i)"
   ]
  },
  {
   "cell_type": "code",
   "execution_count": null,
   "metadata": {},
   "outputs": [],
   "source": [
    "print(len(final_result))"
   ]
  },
  {
   "cell_type": "code",
   "execution_count": null,
   "metadata": {},
   "outputs": [],
   "source": [
    "a=[1,2,3]\n",
    "hist = np.histogram(a,bins=3)\n",
    "len(hist[0])"
   ]
  },
  {
   "cell_type": "code",
   "execution_count": null,
   "metadata": {},
   "outputs": [],
   "source": [
    "len(hist[1])"
   ]
  },
  {
   "cell_type": "code",
   "execution_count": null,
   "metadata": {},
   "outputs": [],
   "source": [
    "genus_scores = []\n",
    "tic = time.time()\n",
    "for i in range(1):\n",
    "    rank_list = OSEA.permutation_to_obtain_ranklist(feature_table)\n",
    "    osea = OSEA.OSEA(rank_list, Taxon_file=taxonomy_filename,set_level='Genus')\n",
    "    genus_scores.append(osea.es)\n",
    "new_tic = time.time()"
   ]
  },
  {
   "cell_type": "code",
   "execution_count": null,
   "metadata": {},
   "outputs": [],
   "source": []
  },
  {
   "cell_type": "code",
   "execution_count": null,
   "metadata": {},
   "outputs": [],
   "source": []
  },
  {
   "cell_type": "code",
   "execution_count": null,
   "metadata": {},
   "outputs": [],
   "source": []
  },
  {
   "cell_type": "code",
   "execution_count": null,
   "metadata": {},
   "outputs": [],
   "source": []
  },
  {
   "cell_type": "code",
   "execution_count": null,
   "metadata": {},
   "outputs": [],
   "source": [
    "type(enrichment_scores)"
   ]
  },
  {
   "cell_type": "code",
   "execution_count": null,
   "metadata": {},
   "outputs": [],
   "source": [
    "#plt.hist(enrichment_scores, bins=100)\n",
    "#plt.show()"
   ]
  },
  {
   "cell_type": "code",
   "execution_count": null,
   "metadata": {},
   "outputs": [],
   "source": [
    "osea.es_point"
   ]
  },
  {
   "cell_type": "code",
   "execution_count": null,
   "metadata": {},
   "outputs": [],
   "source": [
    "plt.plot(osea.es_point)\n",
    "plt.show()"
   ]
  },
  {
   "cell_type": "code",
   "execution_count": null,
   "metadata": {},
   "outputs": [],
   "source": [
    "values, indexes = np.histogram(enrichment_scores,bins=100)"
   ]
  },
  {
   "cell_type": "code",
   "execution_count": null,
   "metadata": {
    "scrolled": true
   },
   "outputs": [],
   "source": [
    "indexes"
   ]
  },
  {
   "cell_type": "code",
   "execution_count": null,
   "metadata": {},
   "outputs": [],
   "source": [
    "import matplotlib.pyplot as plt\n",
    "plt.hist(enrichment_scores, bins=100)\n",
    "plt.show()"
   ]
  },
  {
   "cell_type": "code",
   "execution_count": null,
   "metadata": {},
   "outputs": [],
   "source": [
    "a= [-2,1,0]\n",
    "\n",
    "m = max(a)\n",
    "\n",
    "absm = max(map(abs,a))\n",
    "\n",
    "if absm>m:\n",
    "    print(-absm)\n",
    "else:\n",
    "    print(m)"
   ]
  },
  {
   "cell_type": "code",
   "execution_count": null,
   "metadata": {},
   "outputs": [],
   "source": []
  },
  {
   "cell_type": "code",
   "execution_count": null,
   "metadata": {
    "scrolled": true
   },
   "outputs": [],
   "source": []
  },
  {
   "cell_type": "code",
   "execution_count": null,
   "metadata": {},
   "outputs": [],
   "source": []
  },
  {
   "cell_type": "code",
   "execution_count": null,
   "metadata": {},
   "outputs": [],
   "source": []
  },
  {
   "cell_type": "code",
   "execution_count": null,
   "metadata": {},
   "outputs": [],
   "source": []
  },
  {
   "cell_type": "code",
   "execution_count": null,
   "metadata": {},
   "outputs": [],
   "source": [
    "\n"
   ]
  },
  {
   "cell_type": "code",
   "execution_count": null,
   "metadata": {},
   "outputs": [],
   "source": []
  },
  {
   "cell_type": "code",
   "execution_count": null,
   "metadata": {
    "scrolled": true
   },
   "outputs": [],
   "source": [
    "import plotly \n",
    "import plotly.graph_objs as go\n",
    "\n",
    "import pandas as pd\n",
    "\n",
    "\n",
    "data = [go.Heatmap( z=trans.values.tolist(), colorscale='Viridis')]\n",
    "\n",
    "plotly.offline.plot(data, filename='pandas-heatmap',format='div')"
   ]
  },
  {
   "cell_type": "code",
   "execution_count": null,
   "metadata": {},
   "outputs": [],
   "source": [
    "print(table.metadata())"
   ]
  },
  {
   "cell_type": "code",
   "execution_count": null,
   "metadata": {},
   "outputs": [],
   "source": [
    "table = biom.load_table('feature-table.biom')"
   ]
  },
  {
   "cell_type": "code",
   "execution_count": null,
   "metadata": {
    "scrolled": false
   },
   "outputs": [],
   "source": [
    "print(table.metadata())"
   ]
  },
  {
   "cell_type": "code",
   "execution_count": null,
   "metadata": {},
   "outputs": [],
   "source": [
    "sns.heatmap(table.to_dataframe())"
   ]
  },
  {
   "cell_type": "code",
   "execution_count": null,
   "metadata": {},
   "outputs": [],
   "source": [
    "def fun(*args):\n",
    "    l = [ele for ele in args]\n",
    "    print(l)\n",
    "fun('a','c','e')"
   ]
  },
  {
   "cell_type": "code",
   "execution_count": null,
   "metadata": {},
   "outputs": [],
   "source": [
    "kwargs = {\"arg1\":'c1'}"
   ]
  },
  {
   "cell_type": "code",
   "execution_count": null,
   "metadata": {},
   "outputs": [],
   "source": [
    "fun(**kwargs)"
   ]
  },
  {
   "cell_type": "code",
   "execution_count": null,
   "metadata": {},
   "outputs": [],
   "source": [
    "list(df.columns)"
   ]
  },
  {
   "cell_type": "code",
   "execution_count": null,
   "metadata": {},
   "outputs": [],
   "source": [
    "a=[1,3,4]\n",
    "b=[1]\n"
   ]
  },
  {
   "cell_type": "code",
   "execution_count": null,
   "metadata": {},
   "outputs": [],
   "source": [
    "a=[]"
   ]
  },
  {
   "cell_type": "code",
   "execution_count": null,
   "metadata": {},
   "outputs": [],
   "source": [
    "a.append((1,2))"
   ]
  },
  {
   "cell_type": "code",
   "execution_count": null,
   "metadata": {},
   "outputs": [],
   "source": [
    "a"
   ]
  },
  {
   "cell_type": "code",
   "execution_count": null,
   "metadata": {},
   "outputs": [],
   "source": [
    "a[0]"
   ]
  },
  {
   "cell_type": "code",
   "execution_count": null,
   "metadata": {},
   "outputs": [],
   "source": [
    "df = pd.DataFrame({\n",
    "...     'col2' : [2, 1, 9, 8, 7, 4],\n",
    "...     'col3': [0, 1, 9, 4, 2, 3],\n",
    "... })"
   ]
  },
  {
   "cell_type": "code",
   "execution_count": null,
   "metadata": {},
   "outputs": [],
   "source": [
    "df"
   ]
  },
  {
   "cell_type": "code",
   "execution_count": null,
   "metadata": {},
   "outputs": [],
   "source": [
    "s=df.iloc[[0,3,2],:]\n",
    "s.index=(range(3))\n",
    "s"
   ]
  },
  {
   "cell_type": "code",
   "execution_count": null,
   "metadata": {},
   "outputs": [],
   "source": [
    "import plotly.graph_objs as go\n",
    "data = [go.Heatmap( z=df.values.tolist(), colorscale='Viridis')]"
   ]
  },
  {
   "cell_type": "code",
   "execution_count": null,
   "metadata": {},
   "outputs": [],
   "source": [
    "s=plotly.offline.plot(data,filename='result.html',output_type='div')"
   ]
  },
  {
   "cell_type": "code",
   "execution_count": null,
   "metadata": {},
   "outputs": [],
   "source": [
    "s\n"
   ]
  },
  {
   "cell_type": "code",
   "execution_count": null,
   "metadata": {},
   "outputs": [],
   "source": [
    "s = plotly.offline.plot(data,output_type='div')"
   ]
  },
  {
   "cell_type": "code",
   "execution_count": null,
   "metadata": {},
   "outputs": [],
   "source": [
    "s='<div>'+s+'<\\/div>'l"
   ]
  },
  {
   "cell_type": "code",
   "execution_count": null,
   "metadata": {},
   "outputs": [],
   "source": [
    "f = open('test.div','w')\n",
    "f.write(s)"
   ]
  },
  {
   "cell_type": "code",
   "execution_count": null,
   "metadata": {},
   "outputs": [],
   "source": [
    "new_df = new_df.reindex()\n",
    "new_df.index =list(range(4))"
   ]
  },
  {
   "cell_type": "code",
   "execution_count": null,
   "metadata": {},
   "outputs": [],
   "source": [
    "df"
   ]
  },
  {
   "cell_type": "code",
   "execution_count": null,
   "metadata": {},
   "outputs": [],
   "source": [
    "cols = df.columns\n",
    "df[cols[1]]"
   ]
  },
  {
   "cell_type": "code",
   "execution_count": null,
   "metadata": {},
   "outputs": [],
   "source": [
    "import copy\n",
    "a = [2,3,1]\n",
    "b = copy.copy(a)\n",
    "b[0]=111\n",
    "print(a)"
   ]
  },
  {
   "cell_type": "code",
   "execution_count": null,
   "metadata": {},
   "outputs": [],
   "source": [
    "b"
   ]
  },
  {
   "cell_type": "code",
   "execution_count": null,
   "metadata": {},
   "outputs": [],
   "source": [
    "len(new_df['col1'])"
   ]
  },
  {
   "cell_type": "code",
   "execution_count": null,
   "metadata": {},
   "outputs": [],
   "source": [
    "b.remove(111)"
   ]
  },
  {
   "cell_type": "code",
   "execution_count": null,
   "metadata": {},
   "outputs": [],
   "source": [
    "b"
   ]
  },
  {
   "cell_type": "code",
   "execution_count": null,
   "metadata": {},
   "outputs": [],
   "source": [
    "np.std(new_df['col2'])"
   ]
  },
  {
   "cell_type": "code",
   "execution_count": null,
   "metadata": {},
   "outputs": [],
   "source": [
    "d= {'c':1,'b':3,'a':2}\n",
    "sorted(d,key =d.get)"
   ]
  },
  {
   "cell_type": "code",
   "execution_count": null,
   "metadata": {},
   "outputs": [],
   "source": []
  },
  {
   "cell_type": "code",
   "execution_count": null,
   "metadata": {},
   "outputs": [],
   "source": [
    "a=1"
   ]
  },
  {
   "cell_type": "code",
   "execution_count": null,
   "metadata": {},
   "outputs": [],
   "source": [
    "test = ['','','None']"
   ]
  },
  {
   "cell_type": "code",
   "execution_count": null,
   "metadata": {},
   "outputs": [],
   "source": [
    "if '' in test:\n",
    "    test.remove('')\n",
    "test"
   ]
  },
  {
   "cell_type": "code",
   "execution_count": null,
   "metadata": {},
   "outputs": [],
   "source": [
    "if 'None' in test:\n",
    "    test.remove('None')"
   ]
  },
  {
   "cell_type": "code",
   "execution_count": null,
   "metadata": {},
   "outputs": [],
   "source": [
    "test"
   ]
  },
  {
   "cell_type": "code",
   "execution_count": null,
   "metadata": {},
   "outputs": [],
   "source": []
  }
 ],
 "metadata": {
  "kernelspec": {
   "display_name": "Python 3",
   "language": "python",
   "name": "python3"
  },
  "language_info": {
   "codemirror_mode": {
    "name": "ipython",
    "version": 3
   },
   "file_extension": ".py",
   "mimetype": "text/x-python",
   "name": "python",
   "nbconvert_exporter": "python",
   "pygments_lexer": "ipython3",
   "version": "3.6.6"
  }
 },
 "nbformat": 4,
 "nbformat_minor": 2
}
