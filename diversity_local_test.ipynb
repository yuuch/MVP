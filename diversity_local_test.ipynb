{
 "cells": [
  {
   "cell_type": "code",
   "execution_count": 1,
   "metadata": {},
   "outputs": [],
   "source": [
    "import diversity\n",
    "import os\n",
    "import pandas as pd"
   ]
  },
  {
   "cell_type": "code",
   "execution_count": 2,
   "metadata": {},
   "outputs": [],
   "source": [
    "feature_table = os.path.join('','upload_files/feature-table.biom')\n",
    "metadata = os.path.join('', 'upload_files/demo/demo_metadata.tsv')\n",
    "# TODO\n",
    "obj_col = 'DaysSinceExperimentStart'"
   ]
  },
  {
   "cell_type": "code",
   "execution_count": 3,
   "metadata": {},
   "outputs": [],
   "source": [
    "distance_matrix = os.path.join('','upload_files/demo/distance-matrix.tsv')"
   ]
  },
  {
   "cell_type": "code",
   "execution_count": 4,
   "metadata": {},
   "outputs": [],
   "source": [
    "alpha_diversity_file = os.path.join('','upload_files/demo/alpha-diversity.tsv')\n",
    "alpha_table = pd.read_csv(alpha_diversity_file,sep='\\t')\n",
    "alpha_metadata = pd.read_csv(metadata,sep='\\t')"
   ]
  },
  {
   "cell_type": "code",
   "execution_count": 5,
   "metadata": {},
   "outputs": [],
   "source": [
    "alpha_dict = diversity.alpha_diversity(alpha_table=alpha_table,metadata=alpha_metadata,label_col='BodySite')"
   ]
  },
  {
   "cell_type": "code",
   "execution_count": 6,
   "metadata": {},
   "outputs": [
    {
     "data": {
      "text/plain": [
       "2816077"
      ]
     },
     "execution_count": 6,
     "metadata": {},
     "output_type": "execute_result"
    }
   ],
   "source": [
    "f = open('alpha_diversity_visualization.html','w')\n",
    "div = diversity.alpha_box_plot(alpha_dict)\n",
    "f.write(div)"
   ]
  },
  {
   "cell_type": "code",
   "execution_count": null,
   "metadata": {},
   "outputs": [],
   "source": []
  },
  {
   "cell_type": "code",
   "execution_count": 7,
   "metadata": {},
   "outputs": [],
   "source": [
    "beta_dict = diversity.beta_diversity(col='BodySite',distance_matrix=distance_matrix,metadata_file=metadata)"
   ]
  },
  {
   "cell_type": "code",
   "execution_count": 8,
   "metadata": {},
   "outputs": [],
   "source": [
    "f = open('beta_diversity_visualization.html','w')\n",
    "div = diversity.plot_beta_scatter(beta_dict)"
   ]
  },
  {
   "cell_type": "code",
   "execution_count": 9,
   "metadata": {},
   "outputs": [
    {
     "data": {
      "text/plain": [
       "2817019"
      ]
     },
     "execution_count": 9,
     "metadata": {},
     "output_type": "execute_result"
    }
   ],
   "source": [
    "f.write(div)"
   ]
  },
  {
   "cell_type": "code",
   "execution_count": 10,
   "metadata": {},
   "outputs": [],
   "source": [
    "#beta_dict"
   ]
  },
  {
   "cell_type": "code",
   "execution_count": 11,
   "metadata": {},
   "outputs": [
    {
     "name": "stdout",
     "output_type": "stream",
     "text": [
      "[x0   -0.083197\n",
      "x1   -0.279625\n",
      "Name: 4, dtype: float64, x0   -0.082177\n",
      "x1   -0.232368\n",
      "Name: 19, dtype: float64, x0   -0.082871\n",
      "x1   -0.282690\n",
      "Name: 20, dtype: float64, x0   -0.083913\n",
      "x1   -0.317319\n",
      "Name: 21, dtype: float64, x0   -0.083471\n",
      "x1   -0.299203\n",
      "Name: 22, dtype: float64, x0   -0.083088\n",
      "x1   -0.293225\n",
      "Name: 2, dtype: float64, x0   -0.083300\n",
      "x1   -0.301993\n",
      "Name: 3, dtype: float64, x0   -0.082913\n",
      "x1   -0.269924\n",
      "Name: 1, dtype: float64]\n"
     ]
    }
   ],
   "source": [
    "for ele in beta_dict:\n",
    "    print(beta_dict[ele])\n",
    "    break\n"
   ]
  },
  {
   "cell_type": "code",
   "execution_count": 12,
   "metadata": {},
   "outputs": [],
   "source": [
    "import numpy as np"
   ]
  },
  {
   "cell_type": "code",
   "execution_count": 13,
   "metadata": {},
   "outputs": [],
   "source": [
    "#a=np.array(a)"
   ]
  },
  {
   "cell_type": "code",
   "execution_count": 14,
   "metadata": {},
   "outputs": [],
   "source": [
    "#a[:,1]"
   ]
  },
  {
   "cell_type": "code",
   "execution_count": 15,
   "metadata": {},
   "outputs": [],
   "source": [
    "import numpy as np"
   ]
  },
  {
   "cell_type": "code",
   "execution_count": null,
   "metadata": {},
   "outputs": [],
   "source": []
  }
 ],
 "metadata": {
  "kernelspec": {
   "display_name": "Python 3",
   "language": "python",
   "name": "python3"
  },
  "language_info": {
   "codemirror_mode": {
    "name": "ipython",
    "version": 3
   },
   "file_extension": ".py",
   "mimetype": "text/x-python",
   "name": "python",
   "nbconvert_exporter": "python",
   "pygments_lexer": "ipython3",
   "version": "3.6.6"
  }
 },
 "nbformat": 4,
 "nbformat_minor": 2
}
