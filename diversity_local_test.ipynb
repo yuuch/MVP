{
 "cells": [
  {
   "cell_type": "code",
   "execution_count": 1,
   "metadata": {},
   "outputs": [],
   "source": [
    "import diversity\n",
    "import os\n",
    "import pandas as pd"
   ]
  },
  {
   "cell_type": "code",
   "execution_count": 10,
   "metadata": {},
   "outputs": [],
   "source": [
    "feature_table = os.path.join('','upload_files/feature-table.biom')\n",
    "metadata = os.path.join('', 'upload_files/demo/demo_metadata.tsv')\n",
    "# TODO\n",
    "obj_col = 'DaysSinceExperimentStart'"
   ]
  },
  {
   "cell_type": "code",
   "execution_count": 11,
   "metadata": {},
   "outputs": [],
   "source": [
    "distance_matrix = os.path.join('','upload_files/demo/distance-matrix.tsv')"
   ]
  },
  {
   "cell_type": "code",
   "execution_count": 12,
   "metadata": {},
   "outputs": [],
   "source": [
    "alpha_diversity_file = os.path.join('','upload_files/demo/alpha-diversity.tsv')\n",
    "alpha_table = pd.read_csv(alpha_diversity_file,sep='\\t')\n",
    "alpha_metadata = pd.read_csv(metadata,sep='\\t')"
   ]
  },
  {
   "cell_type": "code",
   "execution_count": 15,
   "metadata": {},
   "outputs": [],
   "source": [
    "#alpha_dict = diversity.alpha_diversity(alpha_table=alpha_table,metadata=alpha_metadata,label_col='BodySite')"
   ]
  },
  {
   "cell_type": "code",
   "execution_count": 20,
   "metadata": {},
   "outputs": [],
   "source": [
    "metric ='ace'\n",
    "tree = os.path.join('','upload_files/tree.nwk')\n",
    "dim_method = 'PCoA'\n",
    "n_components = 3"
   ]
  },
  {
   "cell_type": "code",
   "execution_count": 22,
   "metadata": {},
   "outputs": [],
   "source": [
    "distance_matrix =diversity.beta_diversity_pre(feature_table,tree,metric)\n",
    "\n"
   ]
  },
  {
   "cell_type": "code",
   "execution_count": 7,
   "metadata": {},
   "outputs": [],
   "source": [
    "beta_dict = diversity.beta_diversity(col='BodySite',distance_matrix=distance_matrix,metadata_file=metadata)"
   ]
  },
  {
   "cell_type": "code",
   "execution_count": 23,
   "metadata": {},
   "outputs": [
    {
     "data": {
      "text/plain": [
       "pandas.core.frame.DataFrame"
      ]
     },
     "execution_count": 23,
     "metadata": {},
     "output_type": "execute_result"
    }
   ],
   "source": [
    "type(distance_matrix)"
   ]
  },
  {
   "cell_type": "code",
   "execution_count": 25,
   "metadata": {},
   "outputs": [],
   "source": [
    "import skbio"
   ]
  },
  {
   "cell_type": "code",
   "execution_count": 26,
   "metadata": {},
   "outputs": [],
   "source": [
    "dm =skbio.stats.distance.DistanceMatrix(distance_matrix.values,ids=distance_matrix.columns)"
   ]
  },
  {
   "cell_type": "code",
   "execution_count": 8,
   "metadata": {},
   "outputs": [],
   "source": [
    "f = open('beta_diversity_visualization.html','w')\n",
    "div = diversity.plot_beta_scatter(beta_dict)"
   ]
  },
  {
   "cell_type": "code",
   "execution_count": 68,
   "metadata": {},
   "outputs": [
    {
     "name": "stderr",
     "output_type": "stream",
     "text": [
      "/usr/lib/python3.6/site-packages/skbio/stats/ordination/_principal_coordinate_analysis.py:108: RuntimeWarning:\n",
      "\n",
      "FSVD: since no value for number_of_dimensions is specified, PCoA for all dimensions will be computed, which may result in long computation time if the original distance matrix is large.\n",
      "\n"
     ]
    }
   ],
   "source": [
    "dfff = skbio.stats.ordination.pcoa(dm,'fsvd',0)"
   ]
  },
  {
   "cell_type": "code",
   "execution_count": 69,
   "metadata": {},
   "outputs": [],
   "source": [
    "cols = dfff.samples.columns"
   ]
  },
  {
   "cell_type": "code",
   "execution_count": 70,
   "metadata": {},
   "outputs": [
    {
     "data": {
      "text/plain": [
       "Index(['PC1', 'PC2', 'PC3', 'PC4', 'PC5', 'PC6', 'PC7', 'PC8', 'PC9', 'PC10',\n",
       "       'PC11', 'PC12', 'PC13', 'PC14', 'PC15', 'PC16', 'PC17', 'PC18', 'PC19',\n",
       "       'PC20', 'PC21', 'PC22', 'PC23', 'PC24', 'PC25', 'PC26', 'PC27', 'PC28',\n",
       "       'PC29', 'PC30', 'PC31', 'PC32', 'PC33', 'PC34'],\n",
       "      dtype='object')"
      ]
     },
     "execution_count": 70,
     "metadata": {},
     "output_type": "execute_result"
    }
   ],
   "source": [
    "cols"
   ]
  },
  {
   "cell_type": "code",
   "execution_count": 72,
   "metadata": {},
   "outputs": [
    {
     "name": "stdout",
     "output_type": "stream",
     "text": [
      "['PC1 55%', 'PC2 26%', 'PC3 4%', 'PC4 4%', 'PC5 2%', 'PC6 1%', 'PC7 1%', 'PC8 1%', 'PC9 0%', 'PC10 0%', 'PC11 0%', 'PC12 0%', 'PC13 0%', 'PC14 0%', 'PC15 0%', 'PC16 0%', 'PC17 0%', 'PC18 0%', 'PC19 0%', 'PC20 0%', 'PC21 0%', 'PC22 0%', 'PC23 0%', 'PC24 0%', 'PC25 0%', 'PC26 0%', 'PC27 0%', 'PC28 0%', 'PC29 0%', 'PC30 0%', 'PC31 0%', 'PC32 0%', 'PC33 0%', 'PC34 0%']\n"
     ]
    }
   ],
   "source": [
    "axis_names = []\n",
    "for ele in cols:\n",
    "    tmp = sum([eig**2 for eig in dfff.eigvals])\n",
    "    axis_names.append(ele+' '+str(int(dfff.eigvals[ele]**2/tmp*100))+'%')\n",
    "print(axis_names)\n"
   ]
  },
  {
   "cell_type": "code",
   "execution_count": 66,
   "metadata": {},
   "outputs": [],
   "source": [
    "import numpy as np"
   ]
  },
  {
   "cell_type": "code",
   "execution_count": 13,
   "metadata": {},
   "outputs": [],
   "source": [
    "#a=np.array(a)"
   ]
  },
  {
   "cell_type": "code",
   "execution_count": 14,
   "metadata": {},
   "outputs": [],
   "source": [
    "#a[:,1]"
   ]
  },
  {
   "cell_type": "code",
   "execution_count": 15,
   "metadata": {},
   "outputs": [],
   "source": [
    "import numpy as np"
   ]
  },
  {
   "cell_type": "code",
   "execution_count": null,
   "metadata": {},
   "outputs": [],
   "source": []
  }
 ],
 "metadata": {
  "kernelspec": {
   "display_name": "Python 3",
   "language": "python",
   "name": "python3"
  },
  "language_info": {
   "codemirror_mode": {
    "name": "ipython",
    "version": 3
   },
   "file_extension": ".py",
   "mimetype": "text/x-python",
   "name": "python",
   "nbconvert_exporter": "python",
   "pygments_lexer": "ipython3",
   "version": "3.6.6"
  }
 },
 "nbformat": 4,
 "nbformat_minor": 2
}
