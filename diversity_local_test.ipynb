{
 "cells": [
  {
   "cell_type": "code",
   "execution_count": 1,
   "metadata": {},
   "outputs": [],
   "source": [
    "import diversity\n",
    "import os\n",
    "import pandas as pd"
   ]
  },
  {
   "cell_type": "code",
   "execution_count": 2,
   "metadata": {},
   "outputs": [],
   "source": [
    "feature_table = os.path.join('','upload_files/feature-table.biom')\n",
    "metadata = os.path.join('', 'upload_files/demo/demo_metadata.tsv')\n",
    "# TODO\n",
    "obj_col = 'DaysSinceExperimentStart'"
   ]
  },
  {
   "cell_type": "code",
   "execution_count": 3,
   "metadata": {},
   "outputs": [],
   "source": [
    "distance_matrix = os.path.join('','upload_files/demo/distance-matrix.tsv')"
   ]
  },
  {
   "cell_type": "code",
   "execution_count": 4,
   "metadata": {},
   "outputs": [],
   "source": [
    "alpha_diversity_file = os.path.join('','upload_files/demo/alpha-diversity.tsv')\n",
    "alpha_table = pd.read_csv(alpha_diversity_file,sep='\\t')\n",
    "alpha_metadata = pd.read_csv(metadata,sep='\\t')"
   ]
  },
  {
   "cell_type": "code",
   "execution_count": 5,
   "metadata": {},
   "outputs": [],
   "source": [
    "#alpha_dict = diversity.alpha_diversity(alpha_table=alpha_table,metadata=alpha_metadata,label_col='BodySite')"
   ]
  },
  {
   "cell_type": "code",
   "execution_count": 6,
   "metadata": {},
   "outputs": [],
   "source": [
    "metric ='ace'\n",
    "tree = os.path.join('','upload_files/tree.nwk')\n",
    "dim_method = 'PCoA'\n",
    "n_components = 3"
   ]
  },
  {
   "cell_type": "code",
   "execution_count": 7,
   "metadata": {},
   "outputs": [],
   "source": [
    "distance_matrix =diversity.beta_diversity_pre(feature_table,tree,metric)\n",
    "\n"
   ]
  },
  {
   "cell_type": "code",
   "execution_count": 7,
   "metadata": {},
   "outputs": [],
   "source": [
    "beta_dict = diversity.beta_diversity(col='BodySite',distance_matrix=distance_matrix,metadata_file=metadata)"
   ]
  },
  {
   "cell_type": "code",
   "execution_count": 23,
   "metadata": {},
   "outputs": [
    {
     "data": {
      "text/plain": [
       "pandas.core.frame.DataFrame"
      ]
     },
     "execution_count": 23,
     "metadata": {},
     "output_type": "execute_result"
    }
   ],
   "source": [
    "type(distance_matrix)"
   ]
  },
  {
   "cell_type": "code",
   "execution_count": 9,
   "metadata": {},
   "outputs": [],
   "source": [
    "import skbio"
   ]
  },
  {
   "cell_type": "code",
   "execution_count": 10,
   "metadata": {},
   "outputs": [],
   "source": [
    "dm =skbio.stats.distance.DistanceMatrix(distance_matrix.values,ids=distance_matrix.columns)"
   ]
  },
  {
   "cell_type": "code",
   "execution_count": 8,
   "metadata": {},
   "outputs": [],
   "source": [
    "f = open('beta_diversity_visualization.html','w')\n",
    "div = diversity.plot_beta_scatter(beta_dict)"
   ]
  },
  {
   "cell_type": "code",
   "execution_count": 11,
   "metadata": {},
   "outputs": [
    {
     "name": "stderr",
     "output_type": "stream",
     "text": [
      "/usr/lib/python3.6/site-packages/skbio/stats/ordination/_principal_coordinate_analysis.py:108: RuntimeWarning:\n",
      "\n",
      "FSVD: since no value for number_of_dimensions is specified, PCoA for all dimensions will be computed, which may result in long computation time if the original distance matrix is large.\n",
      "\n"
     ]
    }
   ],
   "source": [
    "dfff = skbio.stats.ordination.pcoa(dm,'fsvd',0)"
   ]
  },
  {
   "cell_type": "code",
   "execution_count": 19,
   "metadata": {},
   "outputs": [],
   "source": [
    "cols = dfff.samples.columns"
   ]
  },
  {
   "cell_type": "code",
   "execution_count": 20,
   "metadata": {},
   "outputs": [],
   "source": [
    "cols = cols[0:3]"
   ]
  },
  {
   "cell_type": "code",
   "execution_count": 22,
   "metadata": {},
   "outputs": [
    {
     "name": "stdout",
     "output_type": "stream",
     "text": [
      "21.043860051347117\n",
      "21.043860051347117\n",
      "21.043860051347117\n",
      "['PC1 55%', 'PC2 26%', 'PC3 4%']\n"
     ]
    }
   ],
   "source": [
    "axis_names = []\n",
    "for ele in cols:\n",
    "    tmp = sum([eig**2 for eig in dfff.eigvals])\n",
    "    print(tmp)\n",
    "    axis_names.append(ele+' '+str(int(dfff.eigvals[ele]**2/tmp*100))+'%')\n",
    "print(axis_names)\n"
   ]
  },
  {
   "cell_type": "code",
   "execution_count": 66,
   "metadata": {},
   "outputs": [],
   "source": [
    "import numpy as np"
   ]
  },
  {
   "cell_type": "code",
   "execution_count": 13,
   "metadata": {},
   "outputs": [],
   "source": [
    "#a=np.array(a)"
   ]
  },
  {
   "cell_type": "code",
   "execution_count": 14,
   "metadata": {},
   "outputs": [],
   "source": [
    "#a[:,1]"
   ]
  },
  {
   "cell_type": "code",
   "execution_count": 15,
   "metadata": {},
   "outputs": [],
   "source": [
    "import numpy as np"
   ]
  },
  {
   "cell_type": "code",
   "execution_count": 25,
   "metadata": {},
   "outputs": [],
   "source": [
    "t = dfff.eigvals[0:2]"
   ]
  },
  {
   "cell_type": "code",
   "execution_count": 26,
   "metadata": {},
   "outputs": [
    {
     "data": {
      "text/plain": [
       "17.055197731365443"
      ]
     },
     "execution_count": 26,
     "metadata": {},
     "output_type": "execute_result"
    }
   ],
   "source": [
    "sum([ele**2 for ele in t])"
   ]
  },
  {
   "cell_type": "code",
   "execution_count": 27,
   "metadata": {},
   "outputs": [
    {
     "data": {
      "text/plain": [
       "PC1     3.403204\n",
       "PC2     2.339529\n",
       "PC3     0.978182\n",
       "PC4     0.951017\n",
       "PC5     0.755681\n",
       "PC6     0.620622\n",
       "PC7     0.565573\n",
       "PC8     0.461779\n",
       "PC9     0.420752\n",
       "PC10    0.321762\n",
       "PC11    0.249563\n",
       "PC12    0.234765\n",
       "PC13    0.214240\n",
       "PC14    0.209099\n",
       "PC15    0.194758\n",
       "PC16    0.161641\n",
       "PC17    0.155671\n",
       "PC18    0.141463\n",
       "PC19    0.116231\n",
       "PC20    0.084402\n",
       "PC21    0.076506\n",
       "PC22    0.071757\n",
       "PC23    0.056421\n",
       "PC24    0.053361\n",
       "PC25    0.044163\n",
       "PC26    0.033656\n",
       "PC27    0.030230\n",
       "PC28    0.020458\n",
       "PC29    0.007955\n",
       "PC30    0.003827\n",
       "PC31    0.002328\n",
       "PC32    0.001113\n",
       "PC33    0.000131\n",
       "PC34    0.000000\n",
       "dtype: float64"
      ]
     },
     "execution_count": 27,
     "metadata": {},
     "output_type": "execute_result"
    }
   ],
   "source": [
    "dfff.eigvals"
   ]
  },
  {
   "cell_type": "code",
   "execution_count": null,
   "metadata": {},
   "outputs": [],
   "source": []
  }
 ],
 "metadata": {
  "kernelspec": {
   "display_name": "Python 3",
   "language": "python",
   "name": "python3"
  },
  "language_info": {
   "codemirror_mode": {
    "name": "ipython",
    "version": 3
   },
   "file_extension": ".py",
   "mimetype": "text/x-python",
   "name": "python",
   "nbconvert_exporter": "python",
   "pygments_lexer": "ipython3",
   "version": "3.6.6"
  }
 },
 "nbformat": 4,
 "nbformat_minor": 2
}
